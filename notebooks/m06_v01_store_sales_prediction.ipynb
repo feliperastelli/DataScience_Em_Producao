{
 "cells": [
  {
   "cell_type": "markdown",
   "id": "808b659e",
   "metadata": {
    "heading_collapsed": true
   },
   "source": [
    "# 0.0 IMPORTS"
   ]
  },
  {
   "cell_type": "code",
   "execution_count": 44,
   "id": "b4a5b56c",
   "metadata": {
    "ExecuteTime": {
     "end_time": "2021-11-02T15:22:30.991180Z",
     "start_time": "2021-11-02T15:22:30.984250Z"
    },
    "hidden": true
   },
   "outputs": [],
   "source": [
    "import pandas as pd\n",
    "import inflection\n",
    "import math\n",
    "import numpy as np\n",
    "import seaborn as sns\n",
    "import datetime\n",
    "import matplotlib.pyplot   as plt\n",
    "import random\n",
    "import pickle\n",
    "import warnings # current version of seaborn generates a bunch of warnings that we'll ignore\n",
    "warnings.filterwarnings(\"ignore\")\n",
    "\n",
    "import xgboost as xgb\n",
    "\n",
    "from boruta                import BorutaPy\n",
    "from sklearn.ensemble      import RandomForestRegressor\n",
    "from scipy                 import stats\n",
    "from IPython.core.display  import HTML\n",
    "from IPython.display       import Image\n",
    "from sklearn.preprocessing import RobustScaler,MinMaxScaler,LabelEncoder\n",
    "from sklearn.metrics       import mean_absolute_error,mean_squared_error\n",
    "from sklearn.linear_model  import LinearRegression , Lasso\n",
    "from sklearn.ensemble      import RandomForestRegressor"
   ]
  },
  {
   "cell_type": "markdown",
   "id": "2adcafa6",
   "metadata": {
    "hidden": true
   },
   "source": [
    "## 0.1 Helper Functions"
   ]
  },
  {
   "cell_type": "code",
   "execution_count": 2,
   "id": "4a51e003",
   "metadata": {
    "ExecuteTime": {
     "end_time": "2021-10-30T22:51:54.074955Z",
     "start_time": "2021-10-30T22:51:53.972696Z"
    },
    "hidden": true
   },
   "outputs": [
    {
     "name": "stdout",
     "output_type": "stream",
     "text": [
      "Populating the interactive namespace from numpy and matplotlib\n"
     ]
    },
    {
     "data": {
      "text/html": [
       "<style>.container { width:100% !important; }</style>"
      ],
      "text/plain": [
       "<IPython.core.display.HTML object>"
      ]
     },
     "metadata": {},
     "output_type": "display_data"
    }
   ],
   "source": [
    "def mean_absolute_percentage_error( y, yhat):\n",
    "    return np.mean(np.abs(y - yhat) / y)\n",
    "\n",
    "def mean_percentage_error( y, yhat):\n",
    "    return np.mean((y - yhat) / y)\n",
    "\n",
    "\n",
    "def ml_error( model_name, y, yhat):\n",
    "    mae = mean_absolute_error( y,yhat)\n",
    "    mape = mean_absolute_percentage_error(y,yhat)\n",
    "    rmse = np.sqrt( mean_squared_error( y,yhat) )\n",
    "    \n",
    "    return pd.DataFrame( {'Model Name': model_name,\n",
    "                          'MAE': mae,\n",
    "                          'MAPE': mape,\n",
    "                          'RMSE': rmse}, index=[0])\n",
    "\n",
    "def cramer_v( x, y):\n",
    "    cm = pd.crosstab(x, y).to_numpy()\n",
    "    n = cm.sum()\n",
    "    r,k = cm.shape\n",
    "    \n",
    "    chi2 = stats.chi2_contingency(cm)[0]\n",
    "    chi2corr = max(0 , chi2 - (k-1)*(r-1)/(n-1))\n",
    "    kcorr = k - (k-1)**2/(n-1)\n",
    "    rcorr = r - (r-1)**2/(n-1)\n",
    "   \n",
    "    return np.sqrt( (chi2corr/n) / (min( kcorr-1, rcorr-1 ) ) )\n",
    "\n",
    "def cross_validation( x_training, kfold, model_name, model, verbose=False ):\n",
    "    mae_list = []\n",
    "    mape_list = []\n",
    "    rmse_list = []\n",
    "\n",
    "    for k in reversed( range( 1,kfold+1 ) ):\n",
    "        if verbose:\n",
    "            print( '\\nKFold Number: {}'.format( k ))\n",
    "\n",
    "        # start and end date for validation\n",
    "        validation_start_date = x_training['date'].max() - datetime.timedelta( days=k*6*7)\n",
    "        validation_end_date = x_training['date'].max() - datetime.timedelta( days=(k-1)*6*7)\n",
    "\n",
    "        # filtering dataset\n",
    "        training = x_training[x_training['date'] < validation_start_date]\n",
    "        validation = x_training[( x_training['date'] >= validation_start_date ) & ( x_training['date'] <= validation_end_date )]\n",
    "\n",
    "        # training and validation dataset\n",
    "        # training\n",
    "        xtraining = training.drop( ['date','sales'], axis=1 )\n",
    "        ytraining = training['sales']\n",
    "\n",
    "        # validation\n",
    "        xvalidation = validation.drop( ['date','sales'], axis=1 )\n",
    "        yvalidation = validation['sales']\n",
    "\n",
    "        # model\n",
    "        m = model.fit( xtraining, ytraining)\n",
    "\n",
    "        # prediction\n",
    "        yhat = m.predict( xvalidation)\n",
    "\n",
    "        # performance\n",
    "        m_result = ml_error( model_name, np.expm1( yvalidation), np.expm1( yhat ) )\n",
    "\n",
    "        # store performance of each kfold iteration\n",
    "        mae_list.append( m_result['MAE'] )\n",
    "        mape_list.append( m_result['MAPE'] )\n",
    "        rmse_list.append( m_result['RMSE'] )\n",
    "\n",
    "    return pd.DataFrame({'Model Name': model_name,\n",
    "                         'MAE CV': np.round(np.mean( mae_list ), 2 ).astype( str) + ' +/- ' + np.round(np.std( mae_list ), 2 ).astype( str),\n",
    "                         'MAPE CV': np.round(np.mean( mape_list ), 2 ).astype( str) + ' +/- ' + np.round(np.std( mape_list ), 2 ).astype( str),\n",
    "                         'RMSE CV': np.round(np.mean( rmse_list ), 2 ).astype( str) + ' +/- ' + np.round(np.std( rmse_list ), 2 ).astype( str)}, index=[0])\n",
    "\n",
    "\n",
    "\n",
    "def jupyter_settings():\n",
    "    %matplotlib inline\n",
    "    %pylab inline\n",
    "    plt.style.use( 'bmh' )\n",
    "    plt.rcParams['figure.figsize'] = [25, 12]\n",
    "    plt.rcParams['font.size'] = 24\n",
    "    display( HTML( '<style>.container { width:100% !important; }</style>') )\n",
    "    pd.options.display.max_columns = None\n",
    "    pd.options.display.max_rows = None\n",
    "    pd.set_option( 'display.expand_frame_repr', False )\n",
    "    sns.set()\n",
    "    \n",
    "jupyter_settings()"
   ]
  },
  {
   "cell_type": "markdown",
   "id": "cb9b4e8a",
   "metadata": {
    "heading_collapsed": true,
    "hidden": true
   },
   "source": [
    "## 0.2 Loading Data"
   ]
  },
  {
   "cell_type": "code",
   "execution_count": 3,
   "id": "5f5d1b78",
   "metadata": {
    "ExecuteTime": {
     "end_time": "2021-10-30T22:52:05.443032Z",
     "start_time": "2021-10-30T22:52:03.443834Z"
    },
    "hidden": true
   },
   "outputs": [],
   "source": [
    "df_sales_raw = pd.read_csv('data/train.csv',low_memory=False)\n",
    "df_store_raw = pd.read_csv('data/store.csv',low_memory=False)\n",
    "\n",
    "# merge\n",
    "df_raw = pd.merge( df_sales_raw, df_store_raw, how='left',on='Store')"
   ]
  },
  {
   "cell_type": "code",
   "execution_count": 4,
   "id": "46a4bbab",
   "metadata": {
    "ExecuteTime": {
     "end_time": "2021-10-30T22:52:06.219172Z",
     "start_time": "2021-10-30T22:52:05.925040Z"
    },
    "hidden": true
   },
   "outputs": [
    {
     "data": {
      "text/html": [
       "<div>\n",
       "<style scoped>\n",
       "    .dataframe tbody tr th:only-of-type {\n",
       "        vertical-align: middle;\n",
       "    }\n",
       "\n",
       "    .dataframe tbody tr th {\n",
       "        vertical-align: top;\n",
       "    }\n",
       "\n",
       "    .dataframe thead th {\n",
       "        text-align: right;\n",
       "    }\n",
       "</style>\n",
       "<table border=\"1\" class=\"dataframe\">\n",
       "  <thead>\n",
       "    <tr style=\"text-align: right;\">\n",
       "      <th></th>\n",
       "      <th>Store</th>\n",
       "      <th>DayOfWeek</th>\n",
       "      <th>Date</th>\n",
       "      <th>Sales</th>\n",
       "      <th>Customers</th>\n",
       "      <th>Open</th>\n",
       "      <th>Promo</th>\n",
       "      <th>StateHoliday</th>\n",
       "      <th>SchoolHoliday</th>\n",
       "      <th>StoreType</th>\n",
       "      <th>Assortment</th>\n",
       "      <th>CompetitionDistance</th>\n",
       "      <th>CompetitionOpenSinceMonth</th>\n",
       "      <th>CompetitionOpenSinceYear</th>\n",
       "      <th>Promo2</th>\n",
       "      <th>Promo2SinceWeek</th>\n",
       "      <th>Promo2SinceYear</th>\n",
       "      <th>PromoInterval</th>\n",
       "    </tr>\n",
       "  </thead>\n",
       "  <tbody>\n",
       "    <tr>\n",
       "      <th>634849</th>\n",
       "      <td>85</td>\n",
       "      <td>1</td>\n",
       "      <td>2013-12-09</td>\n",
       "      <td>5781</td>\n",
       "      <td>846</td>\n",
       "      <td>1</td>\n",
       "      <td>0</td>\n",
       "      <td>0</td>\n",
       "      <td>0</td>\n",
       "      <td>b</td>\n",
       "      <td>a</td>\n",
       "      <td>1870.0</td>\n",
       "      <td>10.0</td>\n",
       "      <td>2011.0</td>\n",
       "      <td>0</td>\n",
       "      <td>NaN</td>\n",
       "      <td>NaN</td>\n",
       "      <td>NaN</td>\n",
       "    </tr>\n",
       "  </tbody>\n",
       "</table>\n",
       "</div>"
      ],
      "text/plain": [
       "        Store  DayOfWeek        Date  Sales  Customers  Open  Promo StateHoliday  SchoolHoliday StoreType Assortment  CompetitionDistance  CompetitionOpenSinceMonth  CompetitionOpenSinceYear  Promo2  Promo2SinceWeek  Promo2SinceYear PromoInterval\n",
       "634849     85          1  2013-12-09   5781        846     1      0            0              0         b          a               1870.0                       10.0                    2011.0       0              NaN              NaN           NaN"
      ]
     },
     "execution_count": 4,
     "metadata": {},
     "output_type": "execute_result"
    }
   ],
   "source": [
    "df_raw.sample()"
   ]
  },
  {
   "cell_type": "markdown",
   "id": "c0e368f4",
   "metadata": {
    "heading_collapsed": true
   },
   "source": [
    "# 1.0 DATA DESCRIPTIONS"
   ]
  },
  {
   "cell_type": "code",
   "execution_count": 5,
   "id": "e2412398",
   "metadata": {
    "ExecuteTime": {
     "end_time": "2021-10-30T22:52:09.694869Z",
     "start_time": "2021-10-30T22:52:09.620106Z"
    },
    "hidden": true
   },
   "outputs": [],
   "source": [
    "df1 = df_raw.copy()"
   ]
  },
  {
   "cell_type": "markdown",
   "id": "1f737caa",
   "metadata": {
    "hidden": true
   },
   "source": [
    "## 1.1 Rename Columns"
   ]
  },
  {
   "cell_type": "code",
   "execution_count": 6,
   "id": "eb01c5bf",
   "metadata": {
    "ExecuteTime": {
     "end_time": "2021-10-30T22:52:12.440671Z",
     "start_time": "2021-10-30T22:52:12.435957Z"
    },
    "hidden": true
   },
   "outputs": [],
   "source": [
    "cols_old = ['Store', 'DayOfWeek', 'Date', 'Sales', 'Customers', 'Open', 'Promo',\n",
    "            'StateHoliday', 'SchoolHoliday', 'StoreType', 'Assortment',\n",
    "            'CompetitionDistance', 'CompetitionOpenSinceMonth',\n",
    "            'CompetitionOpenSinceYear', 'Promo2', 'Promo2SinceWeek',\n",
    "            'Promo2SinceYear', 'PromoInterval']\n",
    "\n",
    "snakecase = lambda x: inflection.underscore( x )\n",
    "\n",
    "cols_new = list(map( snakecase, cols_old))\n",
    "\n",
    "# rename\n",
    "df1.columns = cols_new"
   ]
  },
  {
   "cell_type": "markdown",
   "id": "831a8caa",
   "metadata": {
    "hidden": true
   },
   "source": [
    "## 1.2 Data Dimensions "
   ]
  },
  {
   "cell_type": "code",
   "execution_count": 7,
   "id": "9216c9d5",
   "metadata": {
    "ExecuteTime": {
     "end_time": "2021-10-30T22:52:16.137343Z",
     "start_time": "2021-10-30T22:52:16.132076Z"
    },
    "hidden": true
   },
   "outputs": [
    {
     "name": "stdout",
     "output_type": "stream",
     "text": [
      "Number of Rows: 1017209\n",
      "Number of Columns: 18\n"
     ]
    }
   ],
   "source": [
    "print( 'Number of Rows: {}'.format( df1.shape[0]))\n",
    "print( 'Number of Columns: {}'.format( df1.shape[1]))"
   ]
  },
  {
   "cell_type": "markdown",
   "id": "adfd1fea",
   "metadata": {
    "hidden": true
   },
   "source": [
    "## 1.3 Data Types"
   ]
  },
  {
   "cell_type": "code",
   "execution_count": 8,
   "id": "cd6da99d",
   "metadata": {
    "ExecuteTime": {
     "end_time": "2021-10-30T22:52:19.346138Z",
     "start_time": "2021-10-30T22:52:19.156052Z"
    },
    "hidden": true,
    "scrolled": true
   },
   "outputs": [
    {
     "data": {
      "text/plain": [
       "store                                    int64\n",
       "day_of_week                              int64\n",
       "date                            datetime64[ns]\n",
       "sales                                    int64\n",
       "customers                                int64\n",
       "open                                     int64\n",
       "promo                                    int64\n",
       "state_holiday                           object\n",
       "school_holiday                           int64\n",
       "store_type                              object\n",
       "assortment                              object\n",
       "competition_distance                   float64\n",
       "competition_open_since_month           float64\n",
       "competition_open_since_year            float64\n",
       "promo2                                   int64\n",
       "promo2_since_week                      float64\n",
       "promo2_since_year                      float64\n",
       "promo_interval                          object\n",
       "dtype: object"
      ]
     },
     "execution_count": 8,
     "metadata": {},
     "output_type": "execute_result"
    }
   ],
   "source": [
    "df1['date'] = pd.to_datetime(df1['date'])\n",
    "df1.dtypes"
   ]
  },
  {
   "cell_type": "markdown",
   "id": "bfd6d670",
   "metadata": {
    "hidden": true
   },
   "source": [
    "## 1.4 Check NA"
   ]
  },
  {
   "cell_type": "code",
   "execution_count": 9,
   "id": "5663b1d2",
   "metadata": {
    "ExecuteTime": {
     "end_time": "2021-10-30T22:52:28.141271Z",
     "start_time": "2021-10-30T22:52:27.924205Z"
    },
    "hidden": true
   },
   "outputs": [
    {
     "data": {
      "text/plain": [
       "store                                0\n",
       "day_of_week                          0\n",
       "date                                 0\n",
       "sales                                0\n",
       "customers                            0\n",
       "open                                 0\n",
       "promo                                0\n",
       "state_holiday                        0\n",
       "school_holiday                       0\n",
       "store_type                           0\n",
       "assortment                           0\n",
       "competition_distance              2642\n",
       "competition_open_since_month    323348\n",
       "competition_open_since_year     323348\n",
       "promo2                               0\n",
       "promo2_since_week               508031\n",
       "promo2_since_year               508031\n",
       "promo_interval                  508031\n",
       "dtype: int64"
      ]
     },
     "execution_count": 9,
     "metadata": {},
     "output_type": "execute_result"
    }
   ],
   "source": [
    "df1.isna().sum()"
   ]
  },
  {
   "cell_type": "markdown",
   "id": "c9542adb",
   "metadata": {
    "hidden": true
   },
   "source": [
    "## 1.5 Fillout NA"
   ]
  },
  {
   "cell_type": "code",
   "execution_count": 10,
   "id": "e0a3eed7",
   "metadata": {
    "ExecuteTime": {
     "end_time": "2021-10-30T22:52:33.021062Z",
     "start_time": "2021-10-30T22:52:33.013497Z"
    },
    "hidden": true,
    "scrolled": true
   },
   "outputs": [
    {
     "data": {
      "text/plain": [
       "75860.0"
      ]
     },
     "execution_count": 10,
     "metadata": {},
     "output_type": "execute_result"
    }
   ],
   "source": [
    "df1['competition_distance'].max()"
   ]
  },
  {
   "cell_type": "code",
   "execution_count": 11,
   "id": "051e110f",
   "metadata": {
    "ExecuteTime": {
     "end_time": "2021-10-30T22:53:57.356079Z",
     "start_time": "2021-10-30T22:52:34.692521Z"
    },
    "hidden": true
   },
   "outputs": [],
   "source": [
    "# competition_distance  \n",
    "df1['competition_distance'] = df1['competition_distance'].apply (lambda x: 200000.0 if math.isnan(x) else x)\n",
    "\n",
    "# competition_open_since_month  \n",
    "df1['competition_open_since_month'] = df1.apply( lambda x: x['date'].month if math.isnan( x['competition_open_since_month']) else x['competition_open_since_month'], axis=1)\n",
    "\n",
    "# competition_open_since_year     \n",
    "df1['competition_open_since_year'] = df1.apply( lambda x: x['date'].year if math.isnan( x['competition_open_since_year']) else x['competition_open_since_year'], axis=1)\n",
    "                      \n",
    "# promo2_since_week    \n",
    "df1['promo2_since_week'] = df1.apply( lambda x: x['date'].week if math.isnan( x['promo2_since_week']) else x['promo2_since_week'], axis=1)\n",
    "\n",
    "# promo2_since_year \n",
    "df1['promo2_since_year'] = df1.apply( lambda x: x['date'].year if math.isnan( x['promo2_since_year']) else x['promo2_since_year'], axis=1)\n",
    "\n",
    "# promo_interval  \n",
    "month_map = {1: 'Jan', 2:'Feb',3:'Mar',4:'Apr',5:'May',6:'Jun',7:'Jul',8:'Aug',9:'Set',10:'Oct',11:'Nov',12:'Dec'}    \n",
    "\n",
    "df1['promo_interval'].fillna(0, inplace=True ) \n",
    "\n",
    "df1['month_map'] = df1['date'].dt.month.map( month_map)\n",
    "\n",
    "df1['is_promo'] = df1[['promo_interval','month_map']].apply(lambda x: 0 if x['promo_interval'] == 0 else 1 if x['month_map'] in x['promo_interval'].split( ',') else 0 , axis=1 )\n"
   ]
  },
  {
   "cell_type": "code",
   "execution_count": 12,
   "id": "6c1766e1",
   "metadata": {
    "ExecuteTime": {
     "end_time": "2021-10-30T22:53:57.642009Z",
     "start_time": "2021-10-30T22:53:57.358076Z"
    },
    "hidden": true
   },
   "outputs": [
    {
     "data": {
      "text/plain": [
       "store                           0\n",
       "day_of_week                     0\n",
       "date                            0\n",
       "sales                           0\n",
       "customers                       0\n",
       "open                            0\n",
       "promo                           0\n",
       "state_holiday                   0\n",
       "school_holiday                  0\n",
       "store_type                      0\n",
       "assortment                      0\n",
       "competition_distance            0\n",
       "competition_open_since_month    0\n",
       "competition_open_since_year     0\n",
       "promo2                          0\n",
       "promo2_since_week               0\n",
       "promo2_since_year               0\n",
       "promo_interval                  0\n",
       "month_map                       0\n",
       "is_promo                        0\n",
       "dtype: int64"
      ]
     },
     "execution_count": 12,
     "metadata": {},
     "output_type": "execute_result"
    }
   ],
   "source": [
    "df1.isna().sum()"
   ]
  },
  {
   "cell_type": "markdown",
   "id": "bb9606c1",
   "metadata": {
    "hidden": true
   },
   "source": [
    "## 1.6 Change Types"
   ]
  },
  {
   "cell_type": "code",
   "execution_count": 13,
   "id": "0fc152a6",
   "metadata": {
    "ExecuteTime": {
     "end_time": "2021-10-30T22:53:57.695890Z",
     "start_time": "2021-10-30T22:53:57.646219Z"
    },
    "hidden": true
   },
   "outputs": [],
   "source": [
    "df1['competition_open_since_month'] = df1['competition_open_since_month'].astype(int)\n",
    "df1['competition_open_since_year'] = df1['competition_open_since_year'].astype(int)\n",
    "df1['promo2_since_week'] = df1['promo2_since_week'].astype(int)\n",
    "df1['promo2_since_year'] = df1['promo2_since_year'].astype(int)"
   ]
  },
  {
   "cell_type": "markdown",
   "id": "256c1702",
   "metadata": {
    "heading_collapsed": true,
    "hidden": true
   },
   "source": [
    "## 1.7 Descriptive Statistical"
   ]
  },
  {
   "cell_type": "code",
   "execution_count": null,
   "id": "805646a7",
   "metadata": {
    "ExecuteTime": {
     "start_time": "2021-10-14T01:04:52.600Z"
    },
    "hidden": true
   },
   "outputs": [],
   "source": [
    "num_attributes = df1.select_dtypes( include=['int64' , 'float64'])\n",
    "cat_attributes = df1.select_dtypes( exclude=['int64' , 'float64', 'datetime64[ns]'])"
   ]
  },
  {
   "cell_type": "markdown",
   "id": "a6643fb8",
   "metadata": {
    "hidden": true
   },
   "source": [
    "### 1.7.1 Numerical Attributes"
   ]
  },
  {
   "cell_type": "code",
   "execution_count": null,
   "id": "d0d85f98",
   "metadata": {
    "ExecuteTime": {
     "start_time": "2021-10-14T01:04:52.607Z"
    },
    "hidden": true
   },
   "outputs": [],
   "source": [
    "# Central Tendency - Mean and Median\n",
    "ct1 = pd.DataFrame( num_attributes.apply( np.mean)).T\n",
    "ct2 = pd.DataFrame( num_attributes.apply( np.median)).T\n",
    "\n",
    "# Dispersion - Std, Min, Max, Range, Skew, Kurtosis\n",
    "d1 = pd.DataFrame( num_attributes.apply( np.std)).T\n",
    "d2 = pd.DataFrame( num_attributes.apply( min)).T\n",
    "d3 = pd.DataFrame( num_attributes.apply( max)).T\n",
    "d4 = pd.DataFrame( num_attributes.apply( lambda x: x.max() - x.min())).T\n",
    "d5 = pd.DataFrame( num_attributes.apply( lambda x: x.skew())).T\n",
    "d6 = pd.DataFrame( num_attributes.apply( lambda x: x.kurtosis())).T\n",
    "\n",
    "# concatenate\n",
    "m = pd.concat( [d2,d3,d4,ct1,ct2,d1,d5,d6]).T.reset_index()\n",
    "m.columns = ['attributes','min','max','range','mean','median','std','skew','kurtosis']"
   ]
  },
  {
   "cell_type": "code",
   "execution_count": null,
   "id": "14f79090",
   "metadata": {
    "ExecuteTime": {
     "start_time": "2021-10-14T01:04:52.611Z"
    },
    "hidden": true,
    "scrolled": true
   },
   "outputs": [],
   "source": [
    "sns.distplot(df1['competition_distance'])"
   ]
  },
  {
   "cell_type": "markdown",
   "id": "9eaf9baf",
   "metadata": {
    "heading_collapsed": true,
    "hidden": true
   },
   "source": [
    "### 1.7.2 Categorical Attributes"
   ]
  },
  {
   "cell_type": "code",
   "execution_count": null,
   "id": "a7c7a918",
   "metadata": {
    "ExecuteTime": {
     "start_time": "2021-10-14T01:04:52.618Z"
    },
    "hidden": true
   },
   "outputs": [],
   "source": [
    "cat_attributes.apply( lambda x: x.unique().shape[0])"
   ]
  },
  {
   "cell_type": "code",
   "execution_count": null,
   "id": "d915b8df",
   "metadata": {
    "ExecuteTime": {
     "end_time": "2021-10-18T23:46:33.298486Z",
     "start_time": "2021-10-18T23:46:30.695745Z"
    },
    "hidden": true
   },
   "outputs": [],
   "source": [
    "aux1 = df1[(df1['state_holiday'] != '0') & (df1['sales'] > 0)]\n",
    "\n",
    "plt.subplot( 1,3,1)\n",
    "sns.boxplot(x='state_holiday' , y='sales' ,data=aux1 )\n",
    "\n",
    "plt.subplot( 1,3,2)\n",
    "sns.boxplot(x='store_type' , y='sales' ,data=aux1 )\n",
    "\n",
    "plt.subplot( 1,3,3)\n",
    "sns.boxplot(x='assortment' , y='sales' ,data=aux1 )"
   ]
  },
  {
   "cell_type": "markdown",
   "id": "14bdf0a1",
   "metadata": {
    "heading_collapsed": true
   },
   "source": [
    "# 2.0 FEATURE ENGINEERING"
   ]
  },
  {
   "cell_type": "code",
   "execution_count": 14,
   "id": "111e5935",
   "metadata": {
    "ExecuteTime": {
     "end_time": "2021-10-30T22:53:57.852188Z",
     "start_time": "2021-10-30T22:53:57.698062Z"
    },
    "hidden": true
   },
   "outputs": [],
   "source": [
    "df2 = df1.copy()"
   ]
  },
  {
   "cell_type": "markdown",
   "id": "8e97097c",
   "metadata": {
    "heading_collapsed": true,
    "hidden": true
   },
   "source": [
    "## 2.1 Mind Map Hypothesis"
   ]
  },
  {
   "cell_type": "code",
   "execution_count": null,
   "id": "a9359035",
   "metadata": {
    "ExecuteTime": {
     "start_time": "2021-10-14T01:04:52.635Z"
    },
    "hidden": true
   },
   "outputs": [],
   "source": [
    "Image( 'img/mapmindhipothesis.png')"
   ]
  },
  {
   "cell_type": "markdown",
   "id": "568e74a1",
   "metadata": {
    "ExecuteTime": {
     "end_time": "2021-09-18T13:19:42.214746Z",
     "start_time": "2021-09-18T13:19:42.211918Z"
    },
    "heading_collapsed": true,
    "hidden": true
   },
   "source": [
    "## 2.2 Hypothesis Creation"
   ]
  },
  {
   "cell_type": "markdown",
   "id": "1ede0fc8",
   "metadata": {
    "heading_collapsed": true,
    "hidden": true
   },
   "source": [
    "### 2.2.1 Shops Hypothesis"
   ]
  },
  {
   "cell_type": "markdown",
   "id": "b4f9999f",
   "metadata": {
    "hidden": true
   },
   "source": [
    "**1.** Stores with larger staff sell more\n",
    "\n",
    "**2.** Stores with higher stock sell more\n",
    "\n",
    "**3.** Larger stores should sell more\n",
    "\n",
    "**4.** Stores with a larger assortment should sell more\n",
    "\n",
    "**5.** Stores with closer competitors should sell less\n",
    "\n",
    "**6.** Stores with competitors for longer should sell more"
   ]
  },
  {
   "cell_type": "markdown",
   "id": "902ece49",
   "metadata": {
    "heading_collapsed": true,
    "hidden": true
   },
   "source": [
    "### 2.2.2 Products Hypothesis"
   ]
  },
  {
   "cell_type": "markdown",
   "id": "93e3609d",
   "metadata": {
    "hidden": true
   },
   "source": [
    "**1.** Stores that invest more in Marketing should sell more\n",
    "\n",
    "**2.** Stores that display more of the product in their windows should sell more\n",
    "\n",
    "**3.** Stores that have lower product prices should sell more\n",
    "\n",
    "**4.** Stores with more aggressive promotions (larger discounts) should sell more\n",
    "\n",
    "**5.** Stores with promotions active for longer should sell more\n",
    "\n",
    "**6.** Stores with more days of promotions should sell more\n",
    "\n",
    "**7.** Stores with more than consecutive promotions should sell more"
   ]
  },
  {
   "cell_type": "markdown",
   "id": "25f1314f",
   "metadata": {
    "heading_collapsed": true,
    "hidden": true
   },
   "source": [
    "### 2.2.3 Temporal Hypothesis"
   ]
  },
  {
   "cell_type": "markdown",
   "id": "c9691372",
   "metadata": {
    "hidden": true
   },
   "source": [
    "**1.** Stores open during the Christmas holiday should sell more\n",
    "\n",
    "**2.** Stores should sell more over the years\n",
    "\n",
    "**3.** Stores should sell more in the second half of the year\n",
    "\n",
    "**4.** Stores should sell more after the 10th of each month\n",
    "\n",
    "**5.** Stores should sell less on weekends\n",
    "\n",
    "**6.** Stores should sell less during school holidays"
   ]
  },
  {
   "cell_type": "markdown",
   "id": "d9ff3745",
   "metadata": {
    "heading_collapsed": true,
    "hidden": true
   },
   "source": [
    "## 2.3 Final List of Hypothesis"
   ]
  },
  {
   "cell_type": "markdown",
   "id": "aa2c0013",
   "metadata": {
    "hidden": true
   },
   "source": [
    "**1.** Stores with a larger assortment should sell more\n",
    "\n",
    "**2.** Stores with closer competitors should sell less\n",
    "\n",
    "**3.** Stores with competitors for longer should sell more\n",
    "\n",
    "\n",
    "**4.** Stores with promotions active for longer should sell more\n",
    "\n",
    "**5.** Stores with more days of promotions should sell more\n",
    "\n",
    "**6.** Stores with more than consecutive promotions should sell more\n",
    "\n",
    "\n",
    "**7.** Stores open during the Christmas holiday should sell more\n",
    "\n",
    "**8.** Stores should sell more over the years\n",
    "\n",
    "**9.** Stores should sell more in the second half of the year\n",
    "\n",
    "**10.** Stores should sell more after the 10th of each month\n",
    "\n",
    "**11.** Stores should sell less on weekends\n",
    "\n",
    "**12.** Stores should sell less during school holidays"
   ]
  },
  {
   "cell_type": "markdown",
   "id": "6580718a",
   "metadata": {
    "hidden": true
   },
   "source": [
    "## 2.4 Feature Engineering"
   ]
  },
  {
   "cell_type": "code",
   "execution_count": 15,
   "id": "c4fee16d",
   "metadata": {
    "ExecuteTime": {
     "end_time": "2021-10-30T22:54:55.906335Z",
     "start_time": "2021-10-30T22:53:57.853994Z"
    },
    "hidden": true
   },
   "outputs": [],
   "source": [
    "#year\n",
    "df2['year'] = df2['date'].dt.year\n",
    "\n",
    "#month\n",
    "df2['month'] = df2['date'].dt.month\n",
    "\n",
    "#day\n",
    "df2['day'] = df2['date'].dt.day\n",
    "\n",
    "#week of year\n",
    "df2['week_of_year'] = df2['date'].dt.weekofyear\n",
    "\n",
    "#year week\n",
    "df2['year_week'] = df2['date'].dt.strftime('%Y-%W')\n",
    "\n",
    "#competition since\n",
    "df2['competition_since'] = df2.apply( lambda x: datetime.datetime( year=x['competition_open_since_year'] , \n",
    "                                                                   month=x['competition_open_since_month'], \n",
    "                                                                   day=1), axis=1)\n",
    "\n",
    "df2['competition_time_month'] = ((df2['date'] - df2['competition_since']) / 30).apply( lambda x: x.days).astype(int)\n",
    "\n",
    "#promo since\n",
    "df2['promo_since'] =  df2['promo2_since_year'].astype(str) + '-' + df2['promo2_since_week'].astype(str)\n",
    "\n",
    "df2['promo_since'] = df2['promo_since'].apply(lambda x: datetime.datetime.strptime( x + '-1', '%Y-%W-%w') - datetime.timedelta( days=7 ))\n",
    "\n",
    "df2['promo_time_week'] = ((df2['date'] - df2['promo_since']) / 7).apply( lambda x: x.days).astype(int)\n",
    "\n",
    "#assortment\n",
    "df2['assortment'] = df2['assortment'].apply(lambda x: 'basic' if x == 'a' else 'extra' if x == 'b' else 'extended')\n",
    "\n",
    "#state holiday\n",
    "df2['state_holiday'] = df2['state_holiday'].apply(lambda x: 'public_holiday' if x == 'a' \n",
    "                                                                             else 'easter_holiday' if x == 'b' \n",
    "                                                                             else 'christmas' if x == 'c'\n",
    "                                                                             else 'regular_day')"
   ]
  },
  {
   "cell_type": "code",
   "execution_count": 16,
   "id": "4a55237a",
   "metadata": {
    "ExecuteTime": {
     "end_time": "2021-10-30T22:54:55.984070Z",
     "start_time": "2021-10-30T22:54:55.908744Z"
    },
    "hidden": true
   },
   "outputs": [
    {
     "data": {
      "text/html": [
       "<div>\n",
       "<style scoped>\n",
       "    .dataframe tbody tr th:only-of-type {\n",
       "        vertical-align: middle;\n",
       "    }\n",
       "\n",
       "    .dataframe tbody tr th {\n",
       "        vertical-align: top;\n",
       "    }\n",
       "\n",
       "    .dataframe thead th {\n",
       "        text-align: right;\n",
       "    }\n",
       "</style>\n",
       "<table border=\"1\" class=\"dataframe\">\n",
       "  <thead>\n",
       "    <tr style=\"text-align: right;\">\n",
       "      <th></th>\n",
       "      <th>0</th>\n",
       "      <th>1</th>\n",
       "      <th>2</th>\n",
       "      <th>3</th>\n",
       "      <th>4</th>\n",
       "      <th>5</th>\n",
       "      <th>6</th>\n",
       "      <th>7</th>\n",
       "      <th>8</th>\n",
       "      <th>9</th>\n",
       "      <th>10</th>\n",
       "      <th>11</th>\n",
       "      <th>12</th>\n",
       "      <th>13</th>\n",
       "      <th>14</th>\n",
       "      <th>15</th>\n",
       "      <th>16</th>\n",
       "      <th>17</th>\n",
       "      <th>18</th>\n",
       "      <th>19</th>\n",
       "    </tr>\n",
       "  </thead>\n",
       "  <tbody>\n",
       "    <tr>\n",
       "      <th>store</th>\n",
       "      <td>1</td>\n",
       "      <td>2</td>\n",
       "      <td>3</td>\n",
       "      <td>4</td>\n",
       "      <td>5</td>\n",
       "      <td>6</td>\n",
       "      <td>7</td>\n",
       "      <td>8</td>\n",
       "      <td>9</td>\n",
       "      <td>10</td>\n",
       "      <td>11</td>\n",
       "      <td>12</td>\n",
       "      <td>13</td>\n",
       "      <td>14</td>\n",
       "      <td>15</td>\n",
       "      <td>16</td>\n",
       "      <td>17</td>\n",
       "      <td>18</td>\n",
       "      <td>19</td>\n",
       "      <td>20</td>\n",
       "    </tr>\n",
       "    <tr>\n",
       "      <th>day_of_week</th>\n",
       "      <td>5</td>\n",
       "      <td>5</td>\n",
       "      <td>5</td>\n",
       "      <td>5</td>\n",
       "      <td>5</td>\n",
       "      <td>5</td>\n",
       "      <td>5</td>\n",
       "      <td>5</td>\n",
       "      <td>5</td>\n",
       "      <td>5</td>\n",
       "      <td>5</td>\n",
       "      <td>5</td>\n",
       "      <td>5</td>\n",
       "      <td>5</td>\n",
       "      <td>5</td>\n",
       "      <td>5</td>\n",
       "      <td>5</td>\n",
       "      <td>5</td>\n",
       "      <td>5</td>\n",
       "      <td>5</td>\n",
       "    </tr>\n",
       "    <tr>\n",
       "      <th>date</th>\n",
       "      <td>2015-07-31 00:00:00</td>\n",
       "      <td>2015-07-31 00:00:00</td>\n",
       "      <td>2015-07-31 00:00:00</td>\n",
       "      <td>2015-07-31 00:00:00</td>\n",
       "      <td>2015-07-31 00:00:00</td>\n",
       "      <td>2015-07-31 00:00:00</td>\n",
       "      <td>2015-07-31 00:00:00</td>\n",
       "      <td>2015-07-31 00:00:00</td>\n",
       "      <td>2015-07-31 00:00:00</td>\n",
       "      <td>2015-07-31 00:00:00</td>\n",
       "      <td>2015-07-31 00:00:00</td>\n",
       "      <td>2015-07-31 00:00:00</td>\n",
       "      <td>2015-07-31 00:00:00</td>\n",
       "      <td>2015-07-31 00:00:00</td>\n",
       "      <td>2015-07-31 00:00:00</td>\n",
       "      <td>2015-07-31 00:00:00</td>\n",
       "      <td>2015-07-31 00:00:00</td>\n",
       "      <td>2015-07-31 00:00:00</td>\n",
       "      <td>2015-07-31 00:00:00</td>\n",
       "      <td>2015-07-31 00:00:00</td>\n",
       "    </tr>\n",
       "    <tr>\n",
       "      <th>sales</th>\n",
       "      <td>5263</td>\n",
       "      <td>6064</td>\n",
       "      <td>8314</td>\n",
       "      <td>13995</td>\n",
       "      <td>4822</td>\n",
       "      <td>5651</td>\n",
       "      <td>15344</td>\n",
       "      <td>8492</td>\n",
       "      <td>8565</td>\n",
       "      <td>7185</td>\n",
       "      <td>10457</td>\n",
       "      <td>8959</td>\n",
       "      <td>8821</td>\n",
       "      <td>6544</td>\n",
       "      <td>9191</td>\n",
       "      <td>10231</td>\n",
       "      <td>8430</td>\n",
       "      <td>10071</td>\n",
       "      <td>8234</td>\n",
       "      <td>9593</td>\n",
       "    </tr>\n",
       "    <tr>\n",
       "      <th>customers</th>\n",
       "      <td>555</td>\n",
       "      <td>625</td>\n",
       "      <td>821</td>\n",
       "      <td>1498</td>\n",
       "      <td>559</td>\n",
       "      <td>589</td>\n",
       "      <td>1414</td>\n",
       "      <td>833</td>\n",
       "      <td>687</td>\n",
       "      <td>681</td>\n",
       "      <td>1236</td>\n",
       "      <td>962</td>\n",
       "      <td>568</td>\n",
       "      <td>710</td>\n",
       "      <td>766</td>\n",
       "      <td>979</td>\n",
       "      <td>946</td>\n",
       "      <td>936</td>\n",
       "      <td>718</td>\n",
       "      <td>974</td>\n",
       "    </tr>\n",
       "    <tr>\n",
       "      <th>open</th>\n",
       "      <td>1</td>\n",
       "      <td>1</td>\n",
       "      <td>1</td>\n",
       "      <td>1</td>\n",
       "      <td>1</td>\n",
       "      <td>1</td>\n",
       "      <td>1</td>\n",
       "      <td>1</td>\n",
       "      <td>1</td>\n",
       "      <td>1</td>\n",
       "      <td>1</td>\n",
       "      <td>1</td>\n",
       "      <td>1</td>\n",
       "      <td>1</td>\n",
       "      <td>1</td>\n",
       "      <td>1</td>\n",
       "      <td>1</td>\n",
       "      <td>1</td>\n",
       "      <td>1</td>\n",
       "      <td>1</td>\n",
       "    </tr>\n",
       "    <tr>\n",
       "      <th>promo</th>\n",
       "      <td>1</td>\n",
       "      <td>1</td>\n",
       "      <td>1</td>\n",
       "      <td>1</td>\n",
       "      <td>1</td>\n",
       "      <td>1</td>\n",
       "      <td>1</td>\n",
       "      <td>1</td>\n",
       "      <td>1</td>\n",
       "      <td>1</td>\n",
       "      <td>1</td>\n",
       "      <td>1</td>\n",
       "      <td>1</td>\n",
       "      <td>1</td>\n",
       "      <td>1</td>\n",
       "      <td>1</td>\n",
       "      <td>1</td>\n",
       "      <td>1</td>\n",
       "      <td>1</td>\n",
       "      <td>1</td>\n",
       "    </tr>\n",
       "    <tr>\n",
       "      <th>state_holiday</th>\n",
       "      <td>regular_day</td>\n",
       "      <td>regular_day</td>\n",
       "      <td>regular_day</td>\n",
       "      <td>regular_day</td>\n",
       "      <td>regular_day</td>\n",
       "      <td>regular_day</td>\n",
       "      <td>regular_day</td>\n",
       "      <td>regular_day</td>\n",
       "      <td>regular_day</td>\n",
       "      <td>regular_day</td>\n",
       "      <td>regular_day</td>\n",
       "      <td>regular_day</td>\n",
       "      <td>regular_day</td>\n",
       "      <td>regular_day</td>\n",
       "      <td>regular_day</td>\n",
       "      <td>regular_day</td>\n",
       "      <td>regular_day</td>\n",
       "      <td>regular_day</td>\n",
       "      <td>regular_day</td>\n",
       "      <td>regular_day</td>\n",
       "    </tr>\n",
       "    <tr>\n",
       "      <th>school_holiday</th>\n",
       "      <td>1</td>\n",
       "      <td>1</td>\n",
       "      <td>1</td>\n",
       "      <td>1</td>\n",
       "      <td>1</td>\n",
       "      <td>1</td>\n",
       "      <td>1</td>\n",
       "      <td>1</td>\n",
       "      <td>1</td>\n",
       "      <td>1</td>\n",
       "      <td>1</td>\n",
       "      <td>1</td>\n",
       "      <td>0</td>\n",
       "      <td>1</td>\n",
       "      <td>1</td>\n",
       "      <td>1</td>\n",
       "      <td>1</td>\n",
       "      <td>1</td>\n",
       "      <td>1</td>\n",
       "      <td>0</td>\n",
       "    </tr>\n",
       "    <tr>\n",
       "      <th>store_type</th>\n",
       "      <td>c</td>\n",
       "      <td>a</td>\n",
       "      <td>a</td>\n",
       "      <td>c</td>\n",
       "      <td>a</td>\n",
       "      <td>a</td>\n",
       "      <td>a</td>\n",
       "      <td>a</td>\n",
       "      <td>a</td>\n",
       "      <td>a</td>\n",
       "      <td>a</td>\n",
       "      <td>a</td>\n",
       "      <td>d</td>\n",
       "      <td>a</td>\n",
       "      <td>d</td>\n",
       "      <td>a</td>\n",
       "      <td>a</td>\n",
       "      <td>d</td>\n",
       "      <td>a</td>\n",
       "      <td>d</td>\n",
       "    </tr>\n",
       "    <tr>\n",
       "      <th>assortment</th>\n",
       "      <td>basic</td>\n",
       "      <td>basic</td>\n",
       "      <td>basic</td>\n",
       "      <td>extended</td>\n",
       "      <td>basic</td>\n",
       "      <td>basic</td>\n",
       "      <td>extended</td>\n",
       "      <td>basic</td>\n",
       "      <td>extended</td>\n",
       "      <td>basic</td>\n",
       "      <td>extended</td>\n",
       "      <td>extended</td>\n",
       "      <td>basic</td>\n",
       "      <td>basic</td>\n",
       "      <td>extended</td>\n",
       "      <td>extended</td>\n",
       "      <td>basic</td>\n",
       "      <td>extended</td>\n",
       "      <td>extended</td>\n",
       "      <td>basic</td>\n",
       "    </tr>\n",
       "    <tr>\n",
       "      <th>competition_distance</th>\n",
       "      <td>1270.0</td>\n",
       "      <td>570.0</td>\n",
       "      <td>14130.0</td>\n",
       "      <td>620.0</td>\n",
       "      <td>29910.0</td>\n",
       "      <td>310.0</td>\n",
       "      <td>24000.0</td>\n",
       "      <td>7520.0</td>\n",
       "      <td>2030.0</td>\n",
       "      <td>3160.0</td>\n",
       "      <td>960.0</td>\n",
       "      <td>1070.0</td>\n",
       "      <td>310.0</td>\n",
       "      <td>1300.0</td>\n",
       "      <td>4110.0</td>\n",
       "      <td>3270.0</td>\n",
       "      <td>50.0</td>\n",
       "      <td>13840.0</td>\n",
       "      <td>3240.0</td>\n",
       "      <td>2340.0</td>\n",
       "    </tr>\n",
       "    <tr>\n",
       "      <th>competition_open_since_month</th>\n",
       "      <td>9</td>\n",
       "      <td>11</td>\n",
       "      <td>12</td>\n",
       "      <td>9</td>\n",
       "      <td>4</td>\n",
       "      <td>12</td>\n",
       "      <td>4</td>\n",
       "      <td>10</td>\n",
       "      <td>8</td>\n",
       "      <td>9</td>\n",
       "      <td>11</td>\n",
       "      <td>7</td>\n",
       "      <td>7</td>\n",
       "      <td>3</td>\n",
       "      <td>3</td>\n",
       "      <td>7</td>\n",
       "      <td>12</td>\n",
       "      <td>6</td>\n",
       "      <td>7</td>\n",
       "      <td>5</td>\n",
       "    </tr>\n",
       "    <tr>\n",
       "      <th>competition_open_since_year</th>\n",
       "      <td>2008</td>\n",
       "      <td>2007</td>\n",
       "      <td>2006</td>\n",
       "      <td>2009</td>\n",
       "      <td>2015</td>\n",
       "      <td>2013</td>\n",
       "      <td>2013</td>\n",
       "      <td>2014</td>\n",
       "      <td>2000</td>\n",
       "      <td>2009</td>\n",
       "      <td>2011</td>\n",
       "      <td>2015</td>\n",
       "      <td>2015</td>\n",
       "      <td>2014</td>\n",
       "      <td>2010</td>\n",
       "      <td>2015</td>\n",
       "      <td>2005</td>\n",
       "      <td>2010</td>\n",
       "      <td>2015</td>\n",
       "      <td>2009</td>\n",
       "    </tr>\n",
       "    <tr>\n",
       "      <th>promo2</th>\n",
       "      <td>0</td>\n",
       "      <td>1</td>\n",
       "      <td>1</td>\n",
       "      <td>0</td>\n",
       "      <td>0</td>\n",
       "      <td>0</td>\n",
       "      <td>0</td>\n",
       "      <td>0</td>\n",
       "      <td>0</td>\n",
       "      <td>0</td>\n",
       "      <td>1</td>\n",
       "      <td>1</td>\n",
       "      <td>1</td>\n",
       "      <td>1</td>\n",
       "      <td>1</td>\n",
       "      <td>0</td>\n",
       "      <td>1</td>\n",
       "      <td>1</td>\n",
       "      <td>1</td>\n",
       "      <td>1</td>\n",
       "    </tr>\n",
       "    <tr>\n",
       "      <th>promo2_since_week</th>\n",
       "      <td>31</td>\n",
       "      <td>13</td>\n",
       "      <td>14</td>\n",
       "      <td>31</td>\n",
       "      <td>31</td>\n",
       "      <td>31</td>\n",
       "      <td>31</td>\n",
       "      <td>31</td>\n",
       "      <td>31</td>\n",
       "      <td>31</td>\n",
       "      <td>1</td>\n",
       "      <td>13</td>\n",
       "      <td>45</td>\n",
       "      <td>40</td>\n",
       "      <td>14</td>\n",
       "      <td>31</td>\n",
       "      <td>26</td>\n",
       "      <td>14</td>\n",
       "      <td>22</td>\n",
       "      <td>40</td>\n",
       "    </tr>\n",
       "    <tr>\n",
       "      <th>promo2_since_year</th>\n",
       "      <td>2015</td>\n",
       "      <td>2010</td>\n",
       "      <td>2011</td>\n",
       "      <td>2015</td>\n",
       "      <td>2015</td>\n",
       "      <td>2015</td>\n",
       "      <td>2015</td>\n",
       "      <td>2015</td>\n",
       "      <td>2015</td>\n",
       "      <td>2015</td>\n",
       "      <td>2012</td>\n",
       "      <td>2010</td>\n",
       "      <td>2009</td>\n",
       "      <td>2011</td>\n",
       "      <td>2011</td>\n",
       "      <td>2015</td>\n",
       "      <td>2010</td>\n",
       "      <td>2012</td>\n",
       "      <td>2011</td>\n",
       "      <td>2014</td>\n",
       "    </tr>\n",
       "    <tr>\n",
       "      <th>promo_interval</th>\n",
       "      <td>0</td>\n",
       "      <td>Jan,Apr,Jul,Oct</td>\n",
       "      <td>Jan,Apr,Jul,Oct</td>\n",
       "      <td>0</td>\n",
       "      <td>0</td>\n",
       "      <td>0</td>\n",
       "      <td>0</td>\n",
       "      <td>0</td>\n",
       "      <td>0</td>\n",
       "      <td>0</td>\n",
       "      <td>Jan,Apr,Jul,Oct</td>\n",
       "      <td>Jan,Apr,Jul,Oct</td>\n",
       "      <td>Feb,May,Aug,Nov</td>\n",
       "      <td>Jan,Apr,Jul,Oct</td>\n",
       "      <td>Jan,Apr,Jul,Oct</td>\n",
       "      <td>0</td>\n",
       "      <td>Jan,Apr,Jul,Oct</td>\n",
       "      <td>Jan,Apr,Jul,Oct</td>\n",
       "      <td>Mar,Jun,Sept,Dec</td>\n",
       "      <td>Jan,Apr,Jul,Oct</td>\n",
       "    </tr>\n",
       "    <tr>\n",
       "      <th>month_map</th>\n",
       "      <td>Jul</td>\n",
       "      <td>Jul</td>\n",
       "      <td>Jul</td>\n",
       "      <td>Jul</td>\n",
       "      <td>Jul</td>\n",
       "      <td>Jul</td>\n",
       "      <td>Jul</td>\n",
       "      <td>Jul</td>\n",
       "      <td>Jul</td>\n",
       "      <td>Jul</td>\n",
       "      <td>Jul</td>\n",
       "      <td>Jul</td>\n",
       "      <td>Jul</td>\n",
       "      <td>Jul</td>\n",
       "      <td>Jul</td>\n",
       "      <td>Jul</td>\n",
       "      <td>Jul</td>\n",
       "      <td>Jul</td>\n",
       "      <td>Jul</td>\n",
       "      <td>Jul</td>\n",
       "    </tr>\n",
       "    <tr>\n",
       "      <th>is_promo</th>\n",
       "      <td>0</td>\n",
       "      <td>1</td>\n",
       "      <td>1</td>\n",
       "      <td>0</td>\n",
       "      <td>0</td>\n",
       "      <td>0</td>\n",
       "      <td>0</td>\n",
       "      <td>0</td>\n",
       "      <td>0</td>\n",
       "      <td>0</td>\n",
       "      <td>1</td>\n",
       "      <td>1</td>\n",
       "      <td>0</td>\n",
       "      <td>1</td>\n",
       "      <td>1</td>\n",
       "      <td>0</td>\n",
       "      <td>1</td>\n",
       "      <td>1</td>\n",
       "      <td>0</td>\n",
       "      <td>1</td>\n",
       "    </tr>\n",
       "    <tr>\n",
       "      <th>year</th>\n",
       "      <td>2015</td>\n",
       "      <td>2015</td>\n",
       "      <td>2015</td>\n",
       "      <td>2015</td>\n",
       "      <td>2015</td>\n",
       "      <td>2015</td>\n",
       "      <td>2015</td>\n",
       "      <td>2015</td>\n",
       "      <td>2015</td>\n",
       "      <td>2015</td>\n",
       "      <td>2015</td>\n",
       "      <td>2015</td>\n",
       "      <td>2015</td>\n",
       "      <td>2015</td>\n",
       "      <td>2015</td>\n",
       "      <td>2015</td>\n",
       "      <td>2015</td>\n",
       "      <td>2015</td>\n",
       "      <td>2015</td>\n",
       "      <td>2015</td>\n",
       "    </tr>\n",
       "    <tr>\n",
       "      <th>month</th>\n",
       "      <td>7</td>\n",
       "      <td>7</td>\n",
       "      <td>7</td>\n",
       "      <td>7</td>\n",
       "      <td>7</td>\n",
       "      <td>7</td>\n",
       "      <td>7</td>\n",
       "      <td>7</td>\n",
       "      <td>7</td>\n",
       "      <td>7</td>\n",
       "      <td>7</td>\n",
       "      <td>7</td>\n",
       "      <td>7</td>\n",
       "      <td>7</td>\n",
       "      <td>7</td>\n",
       "      <td>7</td>\n",
       "      <td>7</td>\n",
       "      <td>7</td>\n",
       "      <td>7</td>\n",
       "      <td>7</td>\n",
       "    </tr>\n",
       "    <tr>\n",
       "      <th>day</th>\n",
       "      <td>31</td>\n",
       "      <td>31</td>\n",
       "      <td>31</td>\n",
       "      <td>31</td>\n",
       "      <td>31</td>\n",
       "      <td>31</td>\n",
       "      <td>31</td>\n",
       "      <td>31</td>\n",
       "      <td>31</td>\n",
       "      <td>31</td>\n",
       "      <td>31</td>\n",
       "      <td>31</td>\n",
       "      <td>31</td>\n",
       "      <td>31</td>\n",
       "      <td>31</td>\n",
       "      <td>31</td>\n",
       "      <td>31</td>\n",
       "      <td>31</td>\n",
       "      <td>31</td>\n",
       "      <td>31</td>\n",
       "    </tr>\n",
       "    <tr>\n",
       "      <th>week_of_year</th>\n",
       "      <td>31</td>\n",
       "      <td>31</td>\n",
       "      <td>31</td>\n",
       "      <td>31</td>\n",
       "      <td>31</td>\n",
       "      <td>31</td>\n",
       "      <td>31</td>\n",
       "      <td>31</td>\n",
       "      <td>31</td>\n",
       "      <td>31</td>\n",
       "      <td>31</td>\n",
       "      <td>31</td>\n",
       "      <td>31</td>\n",
       "      <td>31</td>\n",
       "      <td>31</td>\n",
       "      <td>31</td>\n",
       "      <td>31</td>\n",
       "      <td>31</td>\n",
       "      <td>31</td>\n",
       "      <td>31</td>\n",
       "    </tr>\n",
       "    <tr>\n",
       "      <th>year_week</th>\n",
       "      <td>2015-30</td>\n",
       "      <td>2015-30</td>\n",
       "      <td>2015-30</td>\n",
       "      <td>2015-30</td>\n",
       "      <td>2015-30</td>\n",
       "      <td>2015-30</td>\n",
       "      <td>2015-30</td>\n",
       "      <td>2015-30</td>\n",
       "      <td>2015-30</td>\n",
       "      <td>2015-30</td>\n",
       "      <td>2015-30</td>\n",
       "      <td>2015-30</td>\n",
       "      <td>2015-30</td>\n",
       "      <td>2015-30</td>\n",
       "      <td>2015-30</td>\n",
       "      <td>2015-30</td>\n",
       "      <td>2015-30</td>\n",
       "      <td>2015-30</td>\n",
       "      <td>2015-30</td>\n",
       "      <td>2015-30</td>\n",
       "    </tr>\n",
       "    <tr>\n",
       "      <th>competition_since</th>\n",
       "      <td>2008-09-01 00:00:00</td>\n",
       "      <td>2007-11-01 00:00:00</td>\n",
       "      <td>2006-12-01 00:00:00</td>\n",
       "      <td>2009-09-01 00:00:00</td>\n",
       "      <td>2015-04-01 00:00:00</td>\n",
       "      <td>2013-12-01 00:00:00</td>\n",
       "      <td>2013-04-01 00:00:00</td>\n",
       "      <td>2014-10-01 00:00:00</td>\n",
       "      <td>2000-08-01 00:00:00</td>\n",
       "      <td>2009-09-01 00:00:00</td>\n",
       "      <td>2011-11-01 00:00:00</td>\n",
       "      <td>2015-07-01 00:00:00</td>\n",
       "      <td>2015-07-01 00:00:00</td>\n",
       "      <td>2014-03-01 00:00:00</td>\n",
       "      <td>2010-03-01 00:00:00</td>\n",
       "      <td>2015-07-01 00:00:00</td>\n",
       "      <td>2005-12-01 00:00:00</td>\n",
       "      <td>2010-06-01 00:00:00</td>\n",
       "      <td>2015-07-01 00:00:00</td>\n",
       "      <td>2009-05-01 00:00:00</td>\n",
       "    </tr>\n",
       "    <tr>\n",
       "      <th>competition_time_month</th>\n",
       "      <td>84</td>\n",
       "      <td>94</td>\n",
       "      <td>105</td>\n",
       "      <td>71</td>\n",
       "      <td>4</td>\n",
       "      <td>20</td>\n",
       "      <td>28</td>\n",
       "      <td>10</td>\n",
       "      <td>182</td>\n",
       "      <td>71</td>\n",
       "      <td>45</td>\n",
       "      <td>1</td>\n",
       "      <td>1</td>\n",
       "      <td>17</td>\n",
       "      <td>65</td>\n",
       "      <td>1</td>\n",
       "      <td>117</td>\n",
       "      <td>62</td>\n",
       "      <td>1</td>\n",
       "      <td>76</td>\n",
       "    </tr>\n",
       "    <tr>\n",
       "      <th>promo_since</th>\n",
       "      <td>2015-07-27 00:00:00</td>\n",
       "      <td>2010-03-22 00:00:00</td>\n",
       "      <td>2011-03-28 00:00:00</td>\n",
       "      <td>2015-07-27 00:00:00</td>\n",
       "      <td>2015-07-27 00:00:00</td>\n",
       "      <td>2015-07-27 00:00:00</td>\n",
       "      <td>2015-07-27 00:00:00</td>\n",
       "      <td>2015-07-27 00:00:00</td>\n",
       "      <td>2015-07-27 00:00:00</td>\n",
       "      <td>2015-07-27 00:00:00</td>\n",
       "      <td>2011-12-26 00:00:00</td>\n",
       "      <td>2010-03-22 00:00:00</td>\n",
       "      <td>2009-11-02 00:00:00</td>\n",
       "      <td>2011-09-26 00:00:00</td>\n",
       "      <td>2011-03-28 00:00:00</td>\n",
       "      <td>2015-07-27 00:00:00</td>\n",
       "      <td>2010-06-21 00:00:00</td>\n",
       "      <td>2012-03-26 00:00:00</td>\n",
       "      <td>2011-05-23 00:00:00</td>\n",
       "      <td>2014-09-29 00:00:00</td>\n",
       "    </tr>\n",
       "    <tr>\n",
       "      <th>promo_time_week</th>\n",
       "      <td>0</td>\n",
       "      <td>279</td>\n",
       "      <td>226</td>\n",
       "      <td>0</td>\n",
       "      <td>0</td>\n",
       "      <td>0</td>\n",
       "      <td>0</td>\n",
       "      <td>0</td>\n",
       "      <td>0</td>\n",
       "      <td>0</td>\n",
       "      <td>187</td>\n",
       "      <td>279</td>\n",
       "      <td>299</td>\n",
       "      <td>200</td>\n",
       "      <td>226</td>\n",
       "      <td>0</td>\n",
       "      <td>266</td>\n",
       "      <td>174</td>\n",
       "      <td>218</td>\n",
       "      <td>43</td>\n",
       "    </tr>\n",
       "  </tbody>\n",
       "</table>\n",
       "</div>"
      ],
      "text/plain": [
       "                                               0                    1                    2                    3                    4                    5                    6                    7                    8                    9                    10                   11                   12                   13                   14                   15                   16                   17                   18                   19\n",
       "store                                           1                    2                    3                    4                    5                    6                    7                    8                    9                   10                   11                   12                   13                   14                   15                   16                   17                   18                   19                   20\n",
       "day_of_week                                     5                    5                    5                    5                    5                    5                    5                    5                    5                    5                    5                    5                    5                    5                    5                    5                    5                    5                    5                    5\n",
       "date                          2015-07-31 00:00:00  2015-07-31 00:00:00  2015-07-31 00:00:00  2015-07-31 00:00:00  2015-07-31 00:00:00  2015-07-31 00:00:00  2015-07-31 00:00:00  2015-07-31 00:00:00  2015-07-31 00:00:00  2015-07-31 00:00:00  2015-07-31 00:00:00  2015-07-31 00:00:00  2015-07-31 00:00:00  2015-07-31 00:00:00  2015-07-31 00:00:00  2015-07-31 00:00:00  2015-07-31 00:00:00  2015-07-31 00:00:00  2015-07-31 00:00:00  2015-07-31 00:00:00\n",
       "sales                                        5263                 6064                 8314                13995                 4822                 5651                15344                 8492                 8565                 7185                10457                 8959                 8821                 6544                 9191                10231                 8430                10071                 8234                 9593\n",
       "customers                                     555                  625                  821                 1498                  559                  589                 1414                  833                  687                  681                 1236                  962                  568                  710                  766                  979                  946                  936                  718                  974\n",
       "open                                            1                    1                    1                    1                    1                    1                    1                    1                    1                    1                    1                    1                    1                    1                    1                    1                    1                    1                    1                    1\n",
       "promo                                           1                    1                    1                    1                    1                    1                    1                    1                    1                    1                    1                    1                    1                    1                    1                    1                    1                    1                    1                    1\n",
       "state_holiday                         regular_day          regular_day          regular_day          regular_day          regular_day          regular_day          regular_day          regular_day          regular_day          regular_day          regular_day          regular_day          regular_day          regular_day          regular_day          regular_day          regular_day          regular_day          regular_day          regular_day\n",
       "school_holiday                                  1                    1                    1                    1                    1                    1                    1                    1                    1                    1                    1                    1                    0                    1                    1                    1                    1                    1                    1                    0\n",
       "store_type                                      c                    a                    a                    c                    a                    a                    a                    a                    a                    a                    a                    a                    d                    a                    d                    a                    a                    d                    a                    d\n",
       "assortment                                  basic                basic                basic             extended                basic                basic             extended                basic             extended                basic             extended             extended                basic                basic             extended             extended                basic             extended             extended                basic\n",
       "competition_distance                       1270.0                570.0              14130.0                620.0              29910.0                310.0              24000.0               7520.0               2030.0               3160.0                960.0               1070.0                310.0               1300.0               4110.0               3270.0                 50.0              13840.0               3240.0               2340.0\n",
       "competition_open_since_month                    9                   11                   12                    9                    4                   12                    4                   10                    8                    9                   11                    7                    7                    3                    3                    7                   12                    6                    7                    5\n",
       "competition_open_since_year                  2008                 2007                 2006                 2009                 2015                 2013                 2013                 2014                 2000                 2009                 2011                 2015                 2015                 2014                 2010                 2015                 2005                 2010                 2015                 2009\n",
       "promo2                                          0                    1                    1                    0                    0                    0                    0                    0                    0                    0                    1                    1                    1                    1                    1                    0                    1                    1                    1                    1\n",
       "promo2_since_week                              31                   13                   14                   31                   31                   31                   31                   31                   31                   31                    1                   13                   45                   40                   14                   31                   26                   14                   22                   40\n",
       "promo2_since_year                            2015                 2010                 2011                 2015                 2015                 2015                 2015                 2015                 2015                 2015                 2012                 2010                 2009                 2011                 2011                 2015                 2010                 2012                 2011                 2014\n",
       "promo_interval                                  0      Jan,Apr,Jul,Oct      Jan,Apr,Jul,Oct                    0                    0                    0                    0                    0                    0                    0      Jan,Apr,Jul,Oct      Jan,Apr,Jul,Oct      Feb,May,Aug,Nov      Jan,Apr,Jul,Oct      Jan,Apr,Jul,Oct                    0      Jan,Apr,Jul,Oct      Jan,Apr,Jul,Oct     Mar,Jun,Sept,Dec      Jan,Apr,Jul,Oct\n",
       "month_map                                     Jul                  Jul                  Jul                  Jul                  Jul                  Jul                  Jul                  Jul                  Jul                  Jul                  Jul                  Jul                  Jul                  Jul                  Jul                  Jul                  Jul                  Jul                  Jul                  Jul\n",
       "is_promo                                        0                    1                    1                    0                    0                    0                    0                    0                    0                    0                    1                    1                    0                    1                    1                    0                    1                    1                    0                    1\n",
       "year                                         2015                 2015                 2015                 2015                 2015                 2015                 2015                 2015                 2015                 2015                 2015                 2015                 2015                 2015                 2015                 2015                 2015                 2015                 2015                 2015\n",
       "month                                           7                    7                    7                    7                    7                    7                    7                    7                    7                    7                    7                    7                    7                    7                    7                    7                    7                    7                    7                    7\n",
       "day                                            31                   31                   31                   31                   31                   31                   31                   31                   31                   31                   31                   31                   31                   31                   31                   31                   31                   31                   31                   31\n",
       "week_of_year                                   31                   31                   31                   31                   31                   31                   31                   31                   31                   31                   31                   31                   31                   31                   31                   31                   31                   31                   31                   31\n",
       "year_week                                 2015-30              2015-30              2015-30              2015-30              2015-30              2015-30              2015-30              2015-30              2015-30              2015-30              2015-30              2015-30              2015-30              2015-30              2015-30              2015-30              2015-30              2015-30              2015-30              2015-30\n",
       "competition_since             2008-09-01 00:00:00  2007-11-01 00:00:00  2006-12-01 00:00:00  2009-09-01 00:00:00  2015-04-01 00:00:00  2013-12-01 00:00:00  2013-04-01 00:00:00  2014-10-01 00:00:00  2000-08-01 00:00:00  2009-09-01 00:00:00  2011-11-01 00:00:00  2015-07-01 00:00:00  2015-07-01 00:00:00  2014-03-01 00:00:00  2010-03-01 00:00:00  2015-07-01 00:00:00  2005-12-01 00:00:00  2010-06-01 00:00:00  2015-07-01 00:00:00  2009-05-01 00:00:00\n",
       "competition_time_month                         84                   94                  105                   71                    4                   20                   28                   10                  182                   71                   45                    1                    1                   17                   65                    1                  117                   62                    1                   76\n",
       "promo_since                   2015-07-27 00:00:00  2010-03-22 00:00:00  2011-03-28 00:00:00  2015-07-27 00:00:00  2015-07-27 00:00:00  2015-07-27 00:00:00  2015-07-27 00:00:00  2015-07-27 00:00:00  2015-07-27 00:00:00  2015-07-27 00:00:00  2011-12-26 00:00:00  2010-03-22 00:00:00  2009-11-02 00:00:00  2011-09-26 00:00:00  2011-03-28 00:00:00  2015-07-27 00:00:00  2010-06-21 00:00:00  2012-03-26 00:00:00  2011-05-23 00:00:00  2014-09-29 00:00:00\n",
       "promo_time_week                                 0                  279                  226                    0                    0                    0                    0                    0                    0                    0                  187                  279                  299                  200                  226                    0                  266                  174                  218                   43"
      ]
     },
     "execution_count": 16,
     "metadata": {},
     "output_type": "execute_result"
    }
   ],
   "source": [
    "df2.head(20).T"
   ]
  },
  {
   "cell_type": "markdown",
   "id": "d7e41bea",
   "metadata": {
    "heading_collapsed": true
   },
   "source": [
    "# 3.0 FILTERING OF VARIABLES\n"
   ]
  },
  {
   "cell_type": "code",
   "execution_count": 17,
   "id": "2011b320",
   "metadata": {
    "ExecuteTime": {
     "end_time": "2021-10-30T22:54:56.227292Z",
     "start_time": "2021-10-30T22:54:55.989213Z"
    },
    "hidden": true
   },
   "outputs": [],
   "source": [
    "df3 = df2.copy()"
   ]
  },
  {
   "cell_type": "code",
   "execution_count": 18,
   "id": "a75e77be",
   "metadata": {
    "ExecuteTime": {
     "end_time": "2021-10-30T22:54:56.254781Z",
     "start_time": "2021-10-30T22:54:56.229407Z"
    },
    "hidden": true
   },
   "outputs": [
    {
     "data": {
      "text/html": [
       "<div>\n",
       "<style scoped>\n",
       "    .dataframe tbody tr th:only-of-type {\n",
       "        vertical-align: middle;\n",
       "    }\n",
       "\n",
       "    .dataframe tbody tr th {\n",
       "        vertical-align: top;\n",
       "    }\n",
       "\n",
       "    .dataframe thead th {\n",
       "        text-align: right;\n",
       "    }\n",
       "</style>\n",
       "<table border=\"1\" class=\"dataframe\">\n",
       "  <thead>\n",
       "    <tr style=\"text-align: right;\">\n",
       "      <th></th>\n",
       "      <th>store</th>\n",
       "      <th>day_of_week</th>\n",
       "      <th>date</th>\n",
       "      <th>sales</th>\n",
       "      <th>customers</th>\n",
       "      <th>open</th>\n",
       "      <th>promo</th>\n",
       "      <th>state_holiday</th>\n",
       "      <th>school_holiday</th>\n",
       "      <th>store_type</th>\n",
       "      <th>assortment</th>\n",
       "      <th>competition_distance</th>\n",
       "      <th>competition_open_since_month</th>\n",
       "      <th>competition_open_since_year</th>\n",
       "      <th>promo2</th>\n",
       "      <th>promo2_since_week</th>\n",
       "      <th>promo2_since_year</th>\n",
       "      <th>promo_interval</th>\n",
       "      <th>month_map</th>\n",
       "      <th>is_promo</th>\n",
       "      <th>year</th>\n",
       "      <th>month</th>\n",
       "      <th>day</th>\n",
       "      <th>week_of_year</th>\n",
       "      <th>year_week</th>\n",
       "      <th>competition_since</th>\n",
       "      <th>competition_time_month</th>\n",
       "      <th>promo_since</th>\n",
       "      <th>promo_time_week</th>\n",
       "    </tr>\n",
       "  </thead>\n",
       "  <tbody>\n",
       "    <tr>\n",
       "      <th>0</th>\n",
       "      <td>1</td>\n",
       "      <td>5</td>\n",
       "      <td>2015-07-31</td>\n",
       "      <td>5263</td>\n",
       "      <td>555</td>\n",
       "      <td>1</td>\n",
       "      <td>1</td>\n",
       "      <td>regular_day</td>\n",
       "      <td>1</td>\n",
       "      <td>c</td>\n",
       "      <td>basic</td>\n",
       "      <td>1270.0</td>\n",
       "      <td>9</td>\n",
       "      <td>2008</td>\n",
       "      <td>0</td>\n",
       "      <td>31</td>\n",
       "      <td>2015</td>\n",
       "      <td>0</td>\n",
       "      <td>Jul</td>\n",
       "      <td>0</td>\n",
       "      <td>2015</td>\n",
       "      <td>7</td>\n",
       "      <td>31</td>\n",
       "      <td>31</td>\n",
       "      <td>2015-30</td>\n",
       "      <td>2008-09-01</td>\n",
       "      <td>84</td>\n",
       "      <td>2015-07-27</td>\n",
       "      <td>0</td>\n",
       "    </tr>\n",
       "    <tr>\n",
       "      <th>1</th>\n",
       "      <td>2</td>\n",
       "      <td>5</td>\n",
       "      <td>2015-07-31</td>\n",
       "      <td>6064</td>\n",
       "      <td>625</td>\n",
       "      <td>1</td>\n",
       "      <td>1</td>\n",
       "      <td>regular_day</td>\n",
       "      <td>1</td>\n",
       "      <td>a</td>\n",
       "      <td>basic</td>\n",
       "      <td>570.0</td>\n",
       "      <td>11</td>\n",
       "      <td>2007</td>\n",
       "      <td>1</td>\n",
       "      <td>13</td>\n",
       "      <td>2010</td>\n",
       "      <td>Jan,Apr,Jul,Oct</td>\n",
       "      <td>Jul</td>\n",
       "      <td>1</td>\n",
       "      <td>2015</td>\n",
       "      <td>7</td>\n",
       "      <td>31</td>\n",
       "      <td>31</td>\n",
       "      <td>2015-30</td>\n",
       "      <td>2007-11-01</td>\n",
       "      <td>94</td>\n",
       "      <td>2010-03-22</td>\n",
       "      <td>279</td>\n",
       "    </tr>\n",
       "    <tr>\n",
       "      <th>2</th>\n",
       "      <td>3</td>\n",
       "      <td>5</td>\n",
       "      <td>2015-07-31</td>\n",
       "      <td>8314</td>\n",
       "      <td>821</td>\n",
       "      <td>1</td>\n",
       "      <td>1</td>\n",
       "      <td>regular_day</td>\n",
       "      <td>1</td>\n",
       "      <td>a</td>\n",
       "      <td>basic</td>\n",
       "      <td>14130.0</td>\n",
       "      <td>12</td>\n",
       "      <td>2006</td>\n",
       "      <td>1</td>\n",
       "      <td>14</td>\n",
       "      <td>2011</td>\n",
       "      <td>Jan,Apr,Jul,Oct</td>\n",
       "      <td>Jul</td>\n",
       "      <td>1</td>\n",
       "      <td>2015</td>\n",
       "      <td>7</td>\n",
       "      <td>31</td>\n",
       "      <td>31</td>\n",
       "      <td>2015-30</td>\n",
       "      <td>2006-12-01</td>\n",
       "      <td>105</td>\n",
       "      <td>2011-03-28</td>\n",
       "      <td>226</td>\n",
       "    </tr>\n",
       "    <tr>\n",
       "      <th>3</th>\n",
       "      <td>4</td>\n",
       "      <td>5</td>\n",
       "      <td>2015-07-31</td>\n",
       "      <td>13995</td>\n",
       "      <td>1498</td>\n",
       "      <td>1</td>\n",
       "      <td>1</td>\n",
       "      <td>regular_day</td>\n",
       "      <td>1</td>\n",
       "      <td>c</td>\n",
       "      <td>extended</td>\n",
       "      <td>620.0</td>\n",
       "      <td>9</td>\n",
       "      <td>2009</td>\n",
       "      <td>0</td>\n",
       "      <td>31</td>\n",
       "      <td>2015</td>\n",
       "      <td>0</td>\n",
       "      <td>Jul</td>\n",
       "      <td>0</td>\n",
       "      <td>2015</td>\n",
       "      <td>7</td>\n",
       "      <td>31</td>\n",
       "      <td>31</td>\n",
       "      <td>2015-30</td>\n",
       "      <td>2009-09-01</td>\n",
       "      <td>71</td>\n",
       "      <td>2015-07-27</td>\n",
       "      <td>0</td>\n",
       "    </tr>\n",
       "    <tr>\n",
       "      <th>4</th>\n",
       "      <td>5</td>\n",
       "      <td>5</td>\n",
       "      <td>2015-07-31</td>\n",
       "      <td>4822</td>\n",
       "      <td>559</td>\n",
       "      <td>1</td>\n",
       "      <td>1</td>\n",
       "      <td>regular_day</td>\n",
       "      <td>1</td>\n",
       "      <td>a</td>\n",
       "      <td>basic</td>\n",
       "      <td>29910.0</td>\n",
       "      <td>4</td>\n",
       "      <td>2015</td>\n",
       "      <td>0</td>\n",
       "      <td>31</td>\n",
       "      <td>2015</td>\n",
       "      <td>0</td>\n",
       "      <td>Jul</td>\n",
       "      <td>0</td>\n",
       "      <td>2015</td>\n",
       "      <td>7</td>\n",
       "      <td>31</td>\n",
       "      <td>31</td>\n",
       "      <td>2015-30</td>\n",
       "      <td>2015-04-01</td>\n",
       "      <td>4</td>\n",
       "      <td>2015-07-27</td>\n",
       "      <td>0</td>\n",
       "    </tr>\n",
       "  </tbody>\n",
       "</table>\n",
       "</div>"
      ],
      "text/plain": [
       "   store  day_of_week       date  sales  customers  open  promo state_holiday  school_holiday store_type assortment  competition_distance  competition_open_since_month  competition_open_since_year  promo2  promo2_since_week  promo2_since_year   promo_interval month_map  is_promo  year  month  day  week_of_year year_week competition_since  competition_time_month promo_since  promo_time_week\n",
       "0      1            5 2015-07-31   5263        555     1      1   regular_day               1          c      basic                1270.0                             9                         2008       0                 31               2015                0       Jul         0  2015      7   31            31   2015-30        2008-09-01                      84  2015-07-27                0\n",
       "1      2            5 2015-07-31   6064        625     1      1   regular_day               1          a      basic                 570.0                            11                         2007       1                 13               2010  Jan,Apr,Jul,Oct       Jul         1  2015      7   31            31   2015-30        2007-11-01                      94  2010-03-22              279\n",
       "2      3            5 2015-07-31   8314        821     1      1   regular_day               1          a      basic               14130.0                            12                         2006       1                 14               2011  Jan,Apr,Jul,Oct       Jul         1  2015      7   31            31   2015-30        2006-12-01                     105  2011-03-28              226\n",
       "3      4            5 2015-07-31  13995       1498     1      1   regular_day               1          c   extended                 620.0                             9                         2009       0                 31               2015                0       Jul         0  2015      7   31            31   2015-30        2009-09-01                      71  2015-07-27                0\n",
       "4      5            5 2015-07-31   4822        559     1      1   regular_day               1          a      basic               29910.0                             4                         2015       0                 31               2015                0       Jul         0  2015      7   31            31   2015-30        2015-04-01                       4  2015-07-27                0"
      ]
     },
     "execution_count": 18,
     "metadata": {},
     "output_type": "execute_result"
    }
   ],
   "source": [
    "df2.head()"
   ]
  },
  {
   "cell_type": "markdown",
   "id": "9f9a8bb4",
   "metadata": {
    "hidden": true
   },
   "source": [
    "## 3.1 Rows Filtering"
   ]
  },
  {
   "cell_type": "code",
   "execution_count": 19,
   "id": "e5f54b9f",
   "metadata": {
    "ExecuteTime": {
     "end_time": "2021-10-30T22:54:56.865617Z",
     "start_time": "2021-10-30T22:54:56.257311Z"
    },
    "hidden": true
   },
   "outputs": [],
   "source": [
    "df3 = df3[(df3['open']!= 0) & (df3['sales'] > 0)]"
   ]
  },
  {
   "cell_type": "markdown",
   "id": "463646ce",
   "metadata": {
    "hidden": true
   },
   "source": [
    "## 3.2 Columns Selection"
   ]
  },
  {
   "cell_type": "code",
   "execution_count": 20,
   "id": "98159056",
   "metadata": {
    "ExecuteTime": {
     "end_time": "2021-10-30T22:54:56.972621Z",
     "start_time": "2021-10-30T22:54:56.867114Z"
    },
    "hidden": true
   },
   "outputs": [],
   "source": [
    "cols_drop = ['customers','open','promo_interval','month_map']\n",
    "\n",
    "df3 = df3.drop( cols_drop, axis=1)"
   ]
  },
  {
   "cell_type": "markdown",
   "id": "784df0b0",
   "metadata": {
    "heading_collapsed": true
   },
   "source": [
    "# 4.0 EDA - EXPLORATORY DATA ANALYSIS"
   ]
  },
  {
   "cell_type": "code",
   "execution_count": 21,
   "id": "c2a46bb5",
   "metadata": {
    "ExecuteTime": {
     "end_time": "2021-10-30T22:54:57.077804Z",
     "start_time": "2021-10-30T22:54:56.974246Z"
    },
    "hidden": true
   },
   "outputs": [],
   "source": [
    "df4 = df3.copy()"
   ]
  },
  {
   "cell_type": "markdown",
   "id": "7c3b3ff1",
   "metadata": {
    "heading_collapsed": true,
    "hidden": true
   },
   "source": [
    "## 4.1 Univariate Analysis"
   ]
  },
  {
   "cell_type": "markdown",
   "id": "0e76b21e",
   "metadata": {
    "heading_collapsed": true,
    "hidden": true
   },
   "source": [
    "### 4.1.1 Response Variable"
   ]
  },
  {
   "cell_type": "code",
   "execution_count": null,
   "id": "180959cb",
   "metadata": {
    "ExecuteTime": {
     "start_time": "2021-10-14T01:04:52.709Z"
    },
    "hidden": true,
    "scrolled": false
   },
   "outputs": [],
   "source": [
    "sns.distplot(df4['sales'],kde=False);"
   ]
  },
  {
   "cell_type": "markdown",
   "id": "2b50a8b7",
   "metadata": {
    "heading_collapsed": true,
    "hidden": true
   },
   "source": [
    "### 4.1.2 Numerical Variable"
   ]
  },
  {
   "cell_type": "code",
   "execution_count": null,
   "id": "cac85e4b",
   "metadata": {
    "ExecuteTime": {
     "start_time": "2021-10-14T01:04:52.715Z"
    },
    "hidden": true,
    "hide_input": false,
    "scrolled": true
   },
   "outputs": [],
   "source": [
    "num_attributes = df4.select_dtypes( include=['int64' , 'float64'])\n",
    "num_attributes.hist(bins=25);"
   ]
  },
  {
   "cell_type": "code",
   "execution_count": null,
   "id": "8b6587ed",
   "metadata": {
    "ExecuteTime": {
     "start_time": "2021-10-14T01:04:52.719Z"
    },
    "code_folding": [],
    "hidden": true
   },
   "outputs": [],
   "source": [
    "# day_of_week:  O dia da semana interfere minimamente no volume de vendas\n",
    "# customers: Há uma kurtosis e um skew positivo.A quantidade de customers não influencia proporcionalmente o volume de vendas\n",
    "# promo: Há maior volume de vendas quando não há promo\n",
    "# school_holiday: Volume de vendas é maior quando não há school holiday\n",
    "# competition_distance: Há uma kurtosis e um skew positivo. Os competidores estão muito próximos\n",
    "# competition_open_since_month: Há um comportamento de subida de decréscimo constante\n",
    "# competition_open_since_year: Há uma kurtosis e um skew negativo.\n",
    "# promo2: Volume de vendas praticamente igual entre os dois indicadores\n",
    "# promo2_since_week: Há muitas variações ao longo das semanas\n",
    "# promo2_since_year:  Houve um pico nos anos de 2013 e 2014\n",
    "# is_promo: Volume de vendas maior quando não há promo"
   ]
  },
  {
   "cell_type": "markdown",
   "id": "775e888e",
   "metadata": {
    "heading_collapsed": true,
    "hidden": true
   },
   "source": [
    "### 4.1.3 Categorical Variable"
   ]
  },
  {
   "cell_type": "code",
   "execution_count": null,
   "id": "6f542123",
   "metadata": {
    "ExecuteTime": {
     "start_time": "2021-10-14T01:04:52.726Z"
    },
    "hidden": true,
    "scrolled": true
   },
   "outputs": [],
   "source": [
    "df4['assortment'].drop_duplicates()"
   ]
  },
  {
   "cell_type": "code",
   "execution_count": null,
   "id": "d4ae456e",
   "metadata": {
    "ExecuteTime": {
     "start_time": "2021-10-14T01:04:52.731Z"
    },
    "hidden": true,
    "hide_input": false,
    "scrolled": false
   },
   "outputs": [],
   "source": [
    "# state_holiday\n",
    "plt.subplot(3,2,1)\n",
    "a = df4[df4['state_holiday'] != 'regular_day']\n",
    "sns.countplot(a['state_holiday']);\n",
    "\n",
    "plt.subplot(3,2,2)\n",
    "sns.kdeplot( df4[df4['state_holiday'] == 'public_holiday']['sales'], label='public_holiday',shade=True);\n",
    "sns.kdeplot( df4[df4['state_holiday'] == 'easter_holiday']['sales'], label='easter_holiday',shade=True);\n",
    "sns.kdeplot( df4[df4['state_holiday'] == 'christmas']['sales'], label='christmas',shade=True);\n",
    "\n",
    "# store_type\n",
    "plt.subplot(3,2,3)\n",
    "sns.countplot(df4['store_type']);\n",
    "\n",
    "plt.subplot(3,2,4)\n",
    "sns.kdeplot( df4[df4['store_type'] == 'a']['sales'], label='a',shade=True);\n",
    "sns.kdeplot( df4[df4['store_type'] == 'b']['sales'], label='b',shade=True);\n",
    "sns.kdeplot( df4[df4['store_type'] == 'c']['sales'], label='c',shade=True);\n",
    "sns.kdeplot( df4[df4['store_type'] == 'd']['sales'], label='d',shade=True);\n",
    "\n",
    "# assortment\n",
    "plt.subplot(3,2,5)\n",
    "sns.countplot(df4['assortment']);\n",
    "\n",
    "plt.subplot(3,2,6)\n",
    "sns.kdeplot( df4[df4['assortment'] == 'extended']['sales'], label='extended',shade=True);\n",
    "sns.kdeplot( df4[df4['assortment'] == 'basic']['sales'], label='basic',shade=True);\n",
    "sns.kdeplot( df4[df4['assortment'] == 'extra']['sales'], label='extra',shade=True);\n"
   ]
  },
  {
   "cell_type": "markdown",
   "id": "c94eba61",
   "metadata": {
    "heading_collapsed": true,
    "hidden": true,
    "hide_input": true
   },
   "source": [
    "## 4.2 Bivariate Analysis"
   ]
  },
  {
   "cell_type": "markdown",
   "id": "53453396",
   "metadata": {
    "heading_collapsed": true,
    "hidden": true
   },
   "source": [
    "### H1. Stores with a larger assortment should sell more - FALSE"
   ]
  },
  {
   "cell_type": "code",
   "execution_count": null,
   "id": "7354c8e5",
   "metadata": {
    "ExecuteTime": {
     "start_time": "2021-10-14T01:04:52.740Z"
    },
    "hidden": true,
    "hide_input": false,
    "scrolled": false
   },
   "outputs": [],
   "source": [
    "aux1 = df4[['assortment','sales']].groupby('assortment').sum().reset_index()\n",
    "sns.barplot(x='assortment',y='sales',data = aux1);\n",
    "\n",
    "aux2 = df4[['year_week','assortment','sales']].groupby(['year_week','assortment']).sum().reset_index()\n",
    "aux2.pivot(index= 'year_week',columns= 'assortment',values='sales').plot();\n",
    "\n",
    "aux3 = aux2[aux2['assortment'] == 'extra']\n",
    "aux3.pivot(index= 'year_week',columns= 'assortment',values='sales').plot();"
   ]
  },
  {
   "cell_type": "markdown",
   "id": "7cc7439a",
   "metadata": {
    "heading_collapsed": true,
    "hidden": true,
    "hide_input": false
   },
   "source": [
    "### H2. Stores with closer competitors should sell less - FALSE\n",
    "\n"
   ]
  },
  {
   "cell_type": "code",
   "execution_count": null,
   "id": "7e68ba56",
   "metadata": {
    "ExecuteTime": {
     "start_time": "2021-10-14T01:04:52.747Z"
    },
    "hidden": true,
    "hide_input": false,
    "scrolled": true
   },
   "outputs": [],
   "source": [
    "aux1 = df4[['competition_distance','sales']].groupby('competition_distance').sum().reset_index()\n",
    "\n",
    "plt.subplot(1,3,1)\n",
    "sns.scatterplot(x='competition_distance',y='sales',data=aux1);\n",
    "\n",
    "bins = list(np.arange(0,20000,1000))\n",
    "aux1['competition_distance_binned'] = pd.cut( aux1['competition_distance'], bins=bins)\n",
    "aux2 = aux1[['competition_distance_binned','sales']].groupby('competition_distance_binned').sum().reset_index()\n",
    "\n",
    "plt.subplot(1,3,2)\n",
    "sns.barplot(x='competition_distance_binned',y='sales',data=aux2);\n",
    "plt.xticks(rotation=90)\n",
    "\n",
    "plt.subplot(1,3,3)\n",
    "sns.heatmap(aux1.corr(method='pearson'), annot=True);"
   ]
  },
  {
   "cell_type": "markdown",
   "id": "af24f86e",
   "metadata": {
    "heading_collapsed": true,
    "hidden": true
   },
   "source": [
    "### H3. Stores with competitors for longer should sell more - FALSE"
   ]
  },
  {
   "cell_type": "code",
   "execution_count": null,
   "id": "98606335",
   "metadata": {
    "ExecuteTime": {
     "start_time": "2021-10-14T01:04:52.753Z"
    },
    "hidden": true,
    "hide_input": true
   },
   "outputs": [],
   "source": [
    "aux1 = df4[['competition_time_month','sales']].groupby('competition_time_month').sum().reset_index()\n",
    "aux2 = aux1[(aux1['competition_time_month'] < 120 ) & (aux1['competition_time_month'] != 0 )]\n",
    "\n",
    "plt.subplot(1,3,1)\n",
    "sns.barplot(x='competition_time_month',y='sales',data=aux2)\n",
    "plt.xticks(rotation=90);\n",
    "\n",
    "plt.subplot(1,3,2)\n",
    "sns.regplot(x='competition_time_month',y='sales',data=aux2);\n",
    "\n",
    "plt.subplot(1,3,3)\n",
    "sns.heatmap(aux2.corr(method='pearson'), annot=True);\n"
   ]
  },
  {
   "cell_type": "markdown",
   "id": "f9424e37",
   "metadata": {
    "heading_collapsed": true,
    "hidden": true
   },
   "source": [
    "### H4. Stores with promotions active for longer should sell more - FALSE"
   ]
  },
  {
   "cell_type": "code",
   "execution_count": null,
   "id": "a1cc5d4b",
   "metadata": {
    "ExecuteTime": {
     "start_time": "2021-10-14T01:04:52.759Z"
    },
    "hidden": true,
    "hide_input": true
   },
   "outputs": [],
   "source": [
    "aux1 = df4[['promo_time_week','sales']].groupby('promo_time_week').sum().reset_index()\n",
    "\n",
    "grid = GridSpec(2,3)\n",
    "\n",
    "aux2 = aux1[aux1['promo_time_week'] > 0]\n",
    "plt.subplot(grid[0,0])\n",
    "sns.barplot(x='promo_time_week', y='sales', data=aux2);\n",
    "plt.xticks(rotation=90);\n",
    "\n",
    "plt.subplot(grid[0,1])\n",
    "sns.regplot(x='promo_time_week', y='sales', data=aux2);\n",
    "plt.xticks(rotation=90);\n",
    "\n",
    "aux3 = aux1[aux1['promo_time_week'] < 0]\n",
    "plt.subplot(grid[1,0])\n",
    "sns.barplot(x='promo_time_week', y='sales', data=aux3);\n",
    "plt.xticks(rotation=90);\n",
    "\n",
    "plt.subplot(grid[1,1])\n",
    "sns.regplot(x='promo_time_week', y='sales', data=aux3);\n",
    "plt.xticks(rotation=90);\n",
    "\n",
    "plt.subplot(grid[:,2])\n",
    "sns.heatmap( aux1.corr(method='pearson'),annot=True);"
   ]
  },
  {
   "cell_type": "markdown",
   "id": "3684990f",
   "metadata": {
    "heading_collapsed": true,
    "hidden": true,
    "hide_input": false
   },
   "source": [
    "### <s>H5. Stores with more days of promotions should sell more </s>\n"
   ]
  },
  {
   "cell_type": "markdown",
   "id": "818ae946",
   "metadata": {
    "heading_collapsed": true,
    "hidden": true
   },
   "source": [
    "### H6. Stores with more than consecutive promotions should sell more - FALSE"
   ]
  },
  {
   "cell_type": "code",
   "execution_count": null,
   "id": "7c082c95",
   "metadata": {
    "ExecuteTime": {
     "start_time": "2021-10-14T01:04:52.767Z"
    },
    "hidden": true,
    "scrolled": true
   },
   "outputs": [],
   "source": [
    "df4[['promo','promo2','sales']].groupby(['promo','promo2']).sum().reset_index()"
   ]
  },
  {
   "cell_type": "code",
   "execution_count": null,
   "id": "38e7e30f",
   "metadata": {
    "ExecuteTime": {
     "start_time": "2021-10-14T01:04:52.771Z"
    },
    "hidden": true,
    "hide_input": false
   },
   "outputs": [],
   "source": [
    "aux1 = df4[(df4['promo'] == 1 ) & (df4['promo2'] == 1 )][['year_week','sales']].groupby('year_week').sum().reset_index()\n",
    "ax = aux1.plot();\n",
    "\n",
    "aux2 = df4[(df4['promo'] == 1 ) & (df4['promo2'] == 0 )][['year_week','sales']].groupby('year_week').sum().reset_index()\n",
    "aux2.plot(ax=ax);\n",
    "\n",
    "ax.legend( labels=['Traditional & Extended', 'Extended']);"
   ]
  },
  {
   "cell_type": "markdown",
   "id": "1d70e0cd",
   "metadata": {
    "heading_collapsed": true,
    "hidden": true
   },
   "source": [
    "### H7. Stores open during the Christmas holiday should sell more - FALSE"
   ]
  },
  {
   "cell_type": "code",
   "execution_count": null,
   "id": "2692925b",
   "metadata": {
    "ExecuteTime": {
     "start_time": "2021-10-14T01:04:52.777Z"
    },
    "hidden": true,
    "hide_input": true
   },
   "outputs": [],
   "source": [
    "aux = df4[df4['state_holiday'] != 'regular_day']\n",
    "aux1 = aux[['state_holiday','sales']].groupby('state_holiday').sum().reset_index()\n",
    "\n",
    "plt.subplot(1,2,1)\n",
    "sns.barplot(x='state_holiday' , y='sales', data= aux1);\n",
    "\n",
    "aux2 = aux[['year','state_holiday','sales']].groupby(['year','state_holiday']).sum().reset_index()\n",
    "\n",
    "plt.subplot(1,2,2)\n",
    "sns.barplot(x='year' , y='sales', hue='state_holiday' ,data= aux2);"
   ]
  },
  {
   "cell_type": "markdown",
   "id": "94b29091",
   "metadata": {
    "heading_collapsed": true,
    "hidden": true
   },
   "source": [
    "### H8. Stores should sell more over the years - FALSE"
   ]
  },
  {
   "cell_type": "code",
   "execution_count": null,
   "id": "e0393b5e",
   "metadata": {
    "ExecuteTime": {
     "start_time": "2021-10-14T01:04:52.784Z"
    },
    "hidden": true,
    "hide_input": true
   },
   "outputs": [],
   "source": [
    "aux1 = df4[['year','sales']].groupby('year').sum().reset_index()\n",
    "\n",
    "plt.subplot(1,3,1)\n",
    "sns.barplot(x='year' , y='sales' , data=aux1 );\n",
    "\n",
    "plt.subplot(1,3,2)\n",
    "sns.regplot(x='year' , y='sales' , data=aux1 );\n",
    "\n",
    "plt.subplot(1,3,3)\n",
    "sns.heatmap(aux1.corr(method='pearson') ,annot = True);"
   ]
  },
  {
   "cell_type": "markdown",
   "id": "71fab3b4",
   "metadata": {
    "heading_collapsed": true,
    "hidden": true
   },
   "source": [
    "### H9. Stores should sell more in the second half of the year - FALSE"
   ]
  },
  {
   "cell_type": "code",
   "execution_count": null,
   "id": "ec2898a4",
   "metadata": {
    "ExecuteTime": {
     "start_time": "2021-10-14T01:04:52.790Z"
    },
    "hidden": true,
    "hide_input": true
   },
   "outputs": [],
   "source": [
    "aux1 = df4[['month','sales']].groupby('month').sum().reset_index()\n",
    "\n",
    "plt.subplot(1,3,1)\n",
    "sns.barplot(x='month' , y='sales' , data=aux1 );\n",
    "\n",
    "plt.subplot(1,3,2)\n",
    "sns.regplot(x='month' , y='sales' , data=aux1 );\n",
    "\n",
    "plt.subplot(1,3,3)\n",
    "sns.heatmap(aux1.corr(method='pearson') ,annot = True);"
   ]
  },
  {
   "cell_type": "markdown",
   "id": "d197b37e",
   "metadata": {
    "heading_collapsed": true,
    "hidden": true
   },
   "source": [
    "### H10. Stores should sell more after the 10th of each month - TRUE"
   ]
  },
  {
   "cell_type": "code",
   "execution_count": null,
   "id": "64d45f42",
   "metadata": {
    "ExecuteTime": {
     "start_time": "2021-10-14T01:04:52.796Z"
    },
    "hidden": true,
    "hide_input": true
   },
   "outputs": [],
   "source": [
    "aux1 = df4[['day','sales']].groupby('day').sum().reset_index()\n",
    "\n",
    "plt.subplot(2,2,1)\n",
    "sns.barplot(x='day' , y='sales' , data=aux1 );\n",
    "\n",
    "plt.subplot(2,2,2)\n",
    "sns.regplot(x='day' , y='sales' , data=aux1 );\n",
    "\n",
    "plt.subplot(2,2,3)\n",
    "sns.heatmap(aux1.corr(method='pearson') ,annot = True);\n",
    "\n",
    "aux1['before_after'] = aux1['day'].apply( lambda x: 'before_10_day' if x <= 10 else 'after_10_day')\n",
    "aux2 = aux1[['before_after','sales']].groupby('before_after').sum().reset_index()\n",
    "\n",
    "plt.subplot(2,2,4)\n",
    "sns.barplot(x='before_after' , y='sales' , data=aux2);"
   ]
  },
  {
   "cell_type": "markdown",
   "id": "68559156",
   "metadata": {
    "heading_collapsed": true,
    "hidden": true
   },
   "source": [
    "### H11. Stores should sell less on weekends - TRUE"
   ]
  },
  {
   "cell_type": "code",
   "execution_count": null,
   "id": "c4ac2cfa",
   "metadata": {
    "ExecuteTime": {
     "start_time": "2021-10-14T01:04:52.802Z"
    },
    "hidden": true,
    "hide_input": true
   },
   "outputs": [],
   "source": [
    "aux1 = df4[['day_of_week','sales']].groupby('day_of_week').sum().reset_index()\n",
    "\n",
    "plt.subplot(1,3,1)\n",
    "sns.barplot(x='day_of_week' , y='sales' , data=aux1 );\n",
    "\n",
    "plt.subplot(1,3,2)\n",
    "sns.regplot(x='day_of_week' , y='sales' , data=aux1 );\n",
    "\n",
    "plt.subplot(1,3,3)\n",
    "sns.heatmap(aux1.corr(method='pearson') ,annot = True);"
   ]
  },
  {
   "cell_type": "markdown",
   "id": "d4aff50c",
   "metadata": {
    "heading_collapsed": true,
    "hidden": true
   },
   "source": [
    "### H12. Stores should sell less during school holidays - TRUE, EXCEPT JULY AND AUGUST"
   ]
  },
  {
   "cell_type": "code",
   "execution_count": null,
   "id": "bd079cac",
   "metadata": {
    "ExecuteTime": {
     "start_time": "2021-10-14T01:04:52.809Z"
    },
    "hidden": true,
    "hide_input": true
   },
   "outputs": [],
   "source": [
    "aux1 = df4[['school_holiday','sales']].groupby('school_holiday').sum().reset_index()\n",
    "\n",
    "plt.subplot(2,1,1)\n",
    "sns.barplot(x='school_holiday' , y='sales' , data=aux1 );\n",
    "\n",
    "aux2 = df4[['month','school_holiday','sales']].groupby(['month','school_holiday']).sum().reset_index()\n",
    "\n",
    "plt.subplot(2,1,2)\n",
    "sns.barplot(x='month' , y='sales' , hue='school_holiday', data=aux2 );"
   ]
  },
  {
   "cell_type": "markdown",
   "id": "b2b834cb",
   "metadata": {
    "heading_collapsed": true,
    "hidden": true,
    "hide_input": true
   },
   "source": [
    "### 4.2.1 Hypotesis Resume"
   ]
  },
  {
   "cell_type": "code",
   "execution_count": null,
   "id": "cf156fb7",
   "metadata": {
    "ExecuteTime": {
     "start_time": "2021-10-14T01:04:52.815Z"
    },
    "hidden": true,
    "hide_input": true
   },
   "outputs": [],
   "source": [
    "from tabulate import tabulate"
   ]
  },
  {
   "cell_type": "code",
   "execution_count": null,
   "id": "515effd5",
   "metadata": {
    "ExecuteTime": {
     "start_time": "2021-10-14T01:04:52.820Z"
    },
    "hidden": true,
    "hide_input": true,
    "scrolled": true
   },
   "outputs": [],
   "source": [
    "tab = [['Hypotesis', 'Conclusion', 'Relevance'],\n",
    "      ['H1', 'False', 'Low'],\n",
    "      ['H2', 'False', 'Average'],\n",
    "      ['H3', 'False', 'Average'],  \n",
    "      ['H4', 'False', 'Low'], \n",
    "      ['H5', '-', '-'],\n",
    "      ['H6', 'False', 'Low'],\n",
    "      ['H7', 'False', 'Average'],\n",
    "      ['H8', 'False', 'High'],\n",
    "      ['H9', 'False', 'High'],\n",
    "      ['H10', 'True', 'High'],\n",
    "      ['H11', 'True', 'High'],\n",
    "      ['H12', 'True', 'Low'],\n",
    "      ]\n",
    "print( tabulate( tab, headers='firstrow'))"
   ]
  },
  {
   "cell_type": "markdown",
   "id": "ec419b0e",
   "metadata": {
    "heading_collapsed": true,
    "hidden": true
   },
   "source": [
    "## 4.3 Multivariate Analysis\n"
   ]
  },
  {
   "cell_type": "markdown",
   "id": "6f941eac",
   "metadata": {
    "heading_collapsed": true,
    "hidden": true
   },
   "source": [
    "### 4.3.1 Numerical Attributes"
   ]
  },
  {
   "cell_type": "code",
   "execution_count": null,
   "id": "81f0a24a",
   "metadata": {
    "ExecuteTime": {
     "start_time": "2021-10-14T01:04:52.828Z"
    },
    "hidden": true,
    "hide_input": false
   },
   "outputs": [],
   "source": [
    "correlation = num_attributes.corr(method = 'pearson')\n",
    "sns.heatmap(correlation, annot=True);"
   ]
  },
  {
   "cell_type": "markdown",
   "id": "9f84f9eb",
   "metadata": {
    "heading_collapsed": true,
    "hidden": true
   },
   "source": [
    "### 4.3.2 Categorical Attributes"
   ]
  },
  {
   "cell_type": "code",
   "execution_count": null,
   "id": "ce5fc4c4",
   "metadata": {
    "ExecuteTime": {
     "start_time": "2021-10-14T01:04:52.834Z"
    },
    "hidden": true,
    "hide_input": false
   },
   "outputs": [],
   "source": [
    "# only categorical data\n",
    "a = df4.select_dtypes( include='object')\n",
    "\n",
    "# calculate cramer V\n",
    "a1 = cramer_v(a['state_holiday'], a['state_holiday'])\n",
    "a2 = cramer_v(a['state_holiday'], a['store_type'])\n",
    "a3 = cramer_v(a['state_holiday'], a['assortment'])\n",
    "\n",
    "a4 = cramer_v(a['store_type'], a['state_holiday'])\n",
    "a5 = cramer_v(a['store_type'], a['store_type'])\n",
    "a6 = cramer_v(a['store_type'], a['assortment'])\n",
    "\n",
    "a7 = cramer_v(a['assortment'], a['state_holiday'])\n",
    "a8 = cramer_v(a['assortment'], a['store_type'])\n",
    "a9 = cramer_v(a['assortment'], a['assortment'])\n",
    "\n",
    "# final dataset\n",
    "d = pd.DataFrame({'state_holiday': [a1,a2,a3],\n",
    "              'store_type': [a4,a5,a6],\n",
    "              'assortment': [a7,a8,a9] } )\n",
    "\n",
    "d = d.set_index( d.columns)\n",
    "\n",
    "sns.heatmap(d, annot=True);"
   ]
  },
  {
   "cell_type": "markdown",
   "id": "a5f97b14",
   "metadata": {},
   "source": [
    "# 5.0 DATA PREPARATION"
   ]
  },
  {
   "cell_type": "code",
   "execution_count": 54,
   "id": "016f1b6c",
   "metadata": {
    "ExecuteTime": {
     "end_time": "2021-11-02T17:26:49.348449Z",
     "start_time": "2021-11-02T17:26:49.246978Z"
    }
   },
   "outputs": [],
   "source": [
    "df5 = df4.copy()"
   ]
  },
  {
   "cell_type": "markdown",
   "id": "957ffacf",
   "metadata": {
    "heading_collapsed": true
   },
   "source": [
    "## 5.1 Normalization"
   ]
  },
  {
   "cell_type": "code",
   "execution_count": null,
   "id": "f5fb4074",
   "metadata": {
    "ExecuteTime": {
     "start_time": "2021-10-14T01:04:52.845Z"
    },
    "hidden": true
   },
   "outputs": [],
   "source": [
    "# There are not normal variables to normalize"
   ]
  },
  {
   "cell_type": "markdown",
   "id": "f8c71c58",
   "metadata": {},
   "source": [
    "## 5.2 Rescaling"
   ]
  },
  {
   "cell_type": "code",
   "execution_count": 55,
   "id": "757c7da5",
   "metadata": {
    "ExecuteTime": {
     "end_time": "2021-11-02T17:26:51.329132Z",
     "start_time": "2021-11-02T17:26:50.910738Z"
    },
    "code_folding": []
   },
   "outputs": [],
   "source": [
    "rs = RobustScaler()\n",
    "mms = MinMaxScaler()\n",
    "\n",
    "# competition_distance\n",
    "df5['competition_distance'] = rs.fit_transform(df5[['competition_distance']].values)\n",
    "pickle.dump( rs, open('parameter/competition_distance_scaler.pkl', 'wb') )\n",
    "\n",
    "# competition time month\n",
    "df5['competition_time_month'] = rs.fit_transform(df5[['competition_time_month']].values)\n",
    "pickle.dump( rs, open('parameter/competition_time_month_scaler.pkl', 'wb') )\n",
    "\n",
    "# promo time week\n",
    "df5['promo_time_week'] = mms.fit_transform(df5[['promo_time_week']].values)\n",
    "pickle.dump( rs, open('parameter/promo_time_week_scaler.pkl', 'wb') )\n",
    "\n",
    "# year\n",
    "df5['year'] = mms.fit_transform(df5[['year']].values)\n",
    "pickle.dump( mms, open('parameter/year_scaler.pkl', 'wb') )"
   ]
  },
  {
   "cell_type": "code",
   "execution_count": null,
   "id": "344be77c",
   "metadata": {
    "ExecuteTime": {
     "end_time": "2021-10-14T01:18:56.663377Z",
     "start_time": "2021-10-14T01:18:38.984364Z"
    }
   },
   "outputs": [],
   "source": [
    "plt.subplot(2,2,1)\n",
    "sns.distplot(df5['competition_distance']);\n",
    "\n",
    "plt.subplot(2,2,2)\n",
    "sns.distplot(df5['competition_time_month']);\n",
    "\n",
    "plt.subplot(2,2,3)\n",
    "sns.distplot(df5['promo_time_week']);\n",
    "\n",
    "plt.subplot(2,2,4)\n",
    "sns.distplot(df5['year']);"
   ]
  },
  {
   "cell_type": "markdown",
   "id": "e8059d73",
   "metadata": {},
   "source": [
    "## 5.3 Transformation"
   ]
  },
  {
   "cell_type": "markdown",
   "id": "46c8ea3d",
   "metadata": {},
   "source": [
    "### 5.3.1 Encoding"
   ]
  },
  {
   "cell_type": "code",
   "execution_count": 53,
   "id": "2148b0cd",
   "metadata": {
    "ExecuteTime": {
     "end_time": "2021-11-02T15:33:35.260966Z",
     "start_time": "2021-11-02T15:33:34.643418Z"
    }
   },
   "outputs": [],
   "source": [
    "# state_holiday - One Hot Encoding\n",
    "df5 = pd.get_dummies(df5, prefix= ['state_holiday'],columns= ['state_holiday'])\n",
    "\n",
    "# store_type - Label Encoding\n",
    "le = LabelEncoder()\n",
    "df5['store_type'] = le.fit_transform(df5['store_type'])\n",
    "pickle.dump( le, open( 'parameter/store_type_scaler.pkl', 'wb'))\n",
    "\n",
    "# assortment - Ordinal Encoding\n",
    "assortment_dict = {'basic':1,'extra':2, 'extended':3}\n",
    "df5['assortment'] = df5['assortment'].map( assortment_dict )"
   ]
  },
  {
   "cell_type": "markdown",
   "id": "3057fed6",
   "metadata": {},
   "source": [
    "### 5.3.2 Response Variable Transformation"
   ]
  },
  {
   "cell_type": "code",
   "execution_count": 25,
   "id": "03706224",
   "metadata": {
    "ExecuteTime": {
     "end_time": "2021-10-30T22:55:02.764307Z",
     "start_time": "2021-10-30T22:54:58.159351Z"
    }
   },
   "outputs": [
    {
     "data": {
      "image/png": "[encoded data removed]",
      "text/plain": [
       "<Figure size 1800x864 with 1 Axes>"
      ]
     },
     "metadata": {},
     "output_type": "display_data"
    }
   ],
   "source": [
    "df5['sales'] = np.log1p(df5['sales'])\n",
    "sns.distplot(df5['sales']);"
   ]
  },
  {
   "cell_type": "markdown",
   "id": "b5b1644d",
   "metadata": {
    "heading_collapsed": true
   },
   "source": [
    "### 5.3.3 Nature Transformation"
   ]
  },
  {
   "cell_type": "code",
   "execution_count": 26,
   "id": "e191f94a",
   "metadata": {
    "ExecuteTime": {
     "end_time": "2021-10-30T22:55:12.068675Z",
     "start_time": "2021-10-30T22:55:02.766391Z"
    },
    "hidden": true
   },
   "outputs": [],
   "source": [
    "# day_of_week\n",
    "df5['day_of_week_sin'] = df5['day_of_week'].apply(lambda x: np.sin( x * (2. * np.pi/7) ) )\n",
    "df5['day_of_week_cos'] = df5['day_of_week'].apply(lambda x: np.cos( x * (2. * np.pi/7) ) )\n",
    "\n",
    "# month\n",
    "df5['month_sin'] = df5['month'].apply(lambda x: np.sin( x * (2. * np.pi/12) ) )\n",
    "df5['month_cos'] = df5['month'].apply(lambda x: np.cos( x * (2. * np.pi/12) ) )\n",
    "\n",
    "# day\n",
    "df5['day_sin'] = df5['day'].apply(lambda x: np.sin( x * (2. * np.pi/30) ) )\n",
    "df5['day_cos'] = df5['day'].apply(lambda x: np.cos( x * (2. * np.pi/30) ) )\n",
    "\n",
    "# week of year\n",
    "df5['week_of_year_sin'] = df5['week_of_year'].apply(lambda x: np.sin( x * (2. * np.pi/52) ) )\n",
    "df5['week_of_year_cos'] = df5['week_of_year'].apply(lambda x: np.cos( x * (2. * np.pi/52) ) )\n"
   ]
  },
  {
   "cell_type": "markdown",
   "id": "cf478382",
   "metadata": {},
   "source": [
    "# 6.0 FEATURE SELECTION"
   ]
  },
  {
   "cell_type": "code",
   "execution_count": 27,
   "id": "65f28156",
   "metadata": {
    "ExecuteTime": {
     "end_time": "2021-10-30T22:55:12.173840Z",
     "start_time": "2021-10-30T22:55:12.072373Z"
    }
   },
   "outputs": [],
   "source": [
    "df6 = df5.copy()"
   ]
  },
  {
   "cell_type": "code",
   "execution_count": null,
   "id": "53e92bde",
   "metadata": {
    "ExecuteTime": {
     "start_time": "2021-10-14T01:04:52.875Z"
    }
   },
   "outputs": [],
   "source": [
    "# df6 = df6.sample(50000)"
   ]
  },
  {
   "cell_type": "markdown",
   "id": "2422f0fe",
   "metadata": {
    "heading_collapsed": true
   },
   "source": [
    "## 6.1 Split dataframe into training and test dataset"
   ]
  },
  {
   "cell_type": "code",
   "execution_count": 28,
   "id": "d56baddd",
   "metadata": {
    "ExecuteTime": {
     "end_time": "2021-10-30T22:55:12.839034Z",
     "start_time": "2021-10-30T22:55:12.175396Z"
    },
    "hidden": true
   },
   "outputs": [],
   "source": [
    "cols_drop = ['week_of_year','day','month','day_of_week','promo_since','competition_since','year_week']\n",
    "df6 = df6.drop (cols_drop , axis=1)"
   ]
  },
  {
   "cell_type": "code",
   "execution_count": 29,
   "id": "d28bcbe3",
   "metadata": {
    "ExecuteTime": {
     "end_time": "2021-10-30T22:55:12.966386Z",
     "start_time": "2021-10-30T22:55:12.840846Z"
    },
    "hidden": true
   },
   "outputs": [
    {
     "data": {
      "text/plain": [
       "Timestamp('2015-06-19 00:00:00')"
      ]
     },
     "execution_count": 29,
     "metadata": {},
     "output_type": "execute_result"
    }
   ],
   "source": [
    "df6[['store','date']].groupby('store').max().reset_index()['date'][0] - datetime.timedelta( days =6*7 )"
   ]
  },
  {
   "cell_type": "code",
   "execution_count": 30,
   "id": "c6470c36",
   "metadata": {
    "ExecuteTime": {
     "end_time": "2021-10-30T22:55:13.114140Z",
     "start_time": "2021-10-30T22:55:12.969901Z"
    },
    "hidden": true
   },
   "outputs": [
    {
     "name": "stdout",
     "output_type": "stream",
     "text": [
      "Training Min Date: 2013-01-01 00:00:00\n",
      "Training Max Date: 2015-06-18 00:00:00\n",
      "\n",
      "Test Min Date: 2015-06-19 00:00:00\n",
      "Test Max Date: 2015-07-31 00:00:00\n"
     ]
    }
   ],
   "source": [
    "# # training dataset\n",
    "X_train = df6[df6['date'] < '2015-06-19']\n",
    "y_train = X_train['sales']\n",
    "\n",
    "# # test dataset\n",
    "X_test = df6[df6['date'] >= '2015-06-19']\n",
    "y_test = X_test['sales']\n",
    "\n",
    "print( 'Training Min Date: {}'.format( X_train['date'].min() ) )\n",
    "print( 'Training Max Date: {}'.format( X_train['date'].max() ) )\n",
    "\n",
    "print( '\\nTest Min Date: {}'.format( X_test['date'].min() ) )\n",
    "print( 'Test Max Date: {}'.format( X_test['date'].max() ) )"
   ]
  },
  {
   "cell_type": "markdown",
   "id": "7f34647c",
   "metadata": {
    "heading_collapsed": true
   },
   "source": [
    "## 6.2 Boruta as Feature Selector"
   ]
  },
  {
   "cell_type": "code",
   "execution_count": null,
   "id": "e5c56012",
   "metadata": {
    "ExecuteTime": {
     "start_time": "2021-10-14T01:04:52.894Z"
    },
    "hidden": true
   },
   "outputs": [],
   "source": [
    "# training and test dataset for Boruta\n",
    "# X_train_n = X_train.drop(['date','sales'], axis=1).values\n",
    "# y_train_n = y_train.values.ravel()\n",
    "\n",
    "# define RandomForestRegressor\n",
    "# rf = RandomForestRegressor( n_jobs=-1)\n",
    "\n",
    "# # # define Boruta\n",
    "# boruta = BorutaPy( rf, n_estimators='auto', verbose=2, random_state=42 ).fit( X_train_n , y_train_n)"
   ]
  },
  {
   "cell_type": "markdown",
   "id": "ca6fab92",
   "metadata": {
    "heading_collapsed": true
   },
   "source": [
    "## 6.2.1 Best Features from Boruta"
   ]
  },
  {
   "cell_type": "code",
   "execution_count": null,
   "id": "04909118",
   "metadata": {
    "ExecuteTime": {
     "start_time": "2021-10-14T01:04:52.898Z"
    },
    "hidden": true
   },
   "outputs": [],
   "source": [
    "# cols_selected = boruta.support_.tolist()\n",
    "\n",
    "# best features\n",
    "# X_train_fs = X_train.drop(['date','sales'], axis=1)\n",
    "# cols_selected_boruta = X_train_fs.iloc[:, cols_selected].columns.to_list()\n",
    "\n",
    "# not selected boruta\n",
    "# cols_not_selected = np.setdiff1d(X_train_fs.columns, cols_selected_boruta)"
   ]
  },
  {
   "cell_type": "markdown",
   "id": "c15377bf",
   "metadata": {},
   "source": [
    "## 6.3 Manual Feature Selection"
   ]
  },
  {
   "cell_type": "code",
   "execution_count": 31,
   "id": "d2ac9d4e",
   "metadata": {
    "ExecuteTime": {
     "end_time": "2021-10-30T22:55:13.203356Z",
     "start_time": "2021-10-30T22:55:13.117441Z"
    }
   },
   "outputs": [],
   "source": [
    "cols_selected_boruta = [\n",
    "     'store',\n",
    "     'promo',\n",
    "     'store_type',\n",
    "     'assortment',\n",
    "     'competition_distance',\n",
    "     'competition_open_since_month',\n",
    "     'competition_open_since_year',\n",
    "     'promo2',\n",
    "     'promo2_since_week',\n",
    "     'promo2_since_year',\n",
    "     'competition_time_month',\n",
    "     'promo_time_week',\n",
    "     'day_of_week_sin',\n",
    "     'day_of_week_cos',\n",
    "     'month_sin',\n",
    "     'month_cos',\n",
    "     'day_sin',\n",
    "     'day_cos',\n",
    "     'week_of_year_sin',\n",
    "     'week_of_year_cos']\n",
    "\n",
    "# columns to add\n",
    "feat_to_add = ['date','sales']\n",
    "\n",
    "cols_selected_boruta_full = cols_selected_boruta.copy()\n",
    "cols_selected_boruta_full.extend(feat_to_add)"
   ]
  },
  {
   "cell_type": "markdown",
   "id": "40bf43cd",
   "metadata": {
    "heading_collapsed": true
   },
   "source": [
    "# 7.0 MACHINE LEARNING MODELING"
   ]
  },
  {
   "cell_type": "code",
   "execution_count": 32,
   "id": "ac8a5b9a",
   "metadata": {
    "ExecuteTime": {
     "end_time": "2021-10-30T22:55:15.867184Z",
     "start_time": "2021-10-30T22:55:15.718879Z"
    },
    "hidden": true
   },
   "outputs": [],
   "source": [
    "x_train = X_train[ cols_selected_boruta]\n",
    "x_test = X_test[cols_selected_boruta]\n",
    "\n",
    "# Time Series Data Preparation\n",
    "x_training = X_train[cols_selected_boruta_full]"
   ]
  },
  {
   "cell_type": "markdown",
   "id": "051ad467",
   "metadata": {
    "hidden": true
   },
   "source": [
    "## 7.1 Average Model"
   ]
  },
  {
   "cell_type": "code",
   "execution_count": null,
   "id": "8a49ce8b",
   "metadata": {
    "ExecuteTime": {
     "start_time": "2021-10-14T01:04:52.914Z"
    },
    "hidden": true
   },
   "outputs": [],
   "source": [
    "# aux1 = x_test.copy()\n",
    "# aux1['sales'] = y_test.copy()\n",
    "\n",
    "# # prediction\n",
    "# aux2 = aux1[['store' , 'sales']].groupby('store').mean().reset_index().rename(columns={'sales':'predictions'})\n",
    "# aux1 = pd.merge( aux1, aux2 , how='left', on='store')\n",
    "# yhat_baseline = aux1['predictions']\n",
    "\n",
    "# # performance\n",
    "# baseline_result = ml_error('Average Model', np.expm1(y_test), np.expm1(yhat_baseline) )\n",
    "# baseline_result"
   ]
  },
  {
   "cell_type": "markdown",
   "id": "4b536234",
   "metadata": {
    "hidden": true
   },
   "source": [
    "## 7.2 Linear Regression Model"
   ]
  },
  {
   "cell_type": "code",
   "execution_count": null,
   "id": "f6692cae",
   "metadata": {
    "ExecuteTime": {
     "start_time": "2021-10-14T01:04:52.921Z"
    },
    "hidden": true
   },
   "outputs": [],
   "source": [
    "# # model\n",
    "# lr = LinearRegression().fit( x_train, y_train)\n",
    "\n",
    "# # prediction\n",
    "# yhat_lr = lr.predict( x_test )\n",
    "\n",
    "# # performance\n",
    "# lr_result = ml_error( 'Linear Regression', np.expm1(y_test) , np.expm1(yhat_lr) )\n",
    "# lr_result"
   ]
  },
  {
   "cell_type": "markdown",
   "id": "07a2fb85",
   "metadata": {
    "ExecuteTime": {
     "end_time": "2021-10-12T15:18:14.969349Z",
     "start_time": "2021-10-12T15:18:14.966818Z"
    },
    "hidden": true
   },
   "source": [
    "### 7.2.1 Linear Regression Model - Cross Validation"
   ]
  },
  {
   "cell_type": "code",
   "execution_count": null,
   "id": "78b514dd",
   "metadata": {
    "ExecuteTime": {
     "start_time": "2021-10-14T01:04:52.925Z"
    },
    "hidden": true
   },
   "outputs": [],
   "source": [
    "# lr_result_cv = cross_validation( x_training, 5, 'Linear Regression', lr, verbose=False )\n",
    "# lr_result_cv"
   ]
  },
  {
   "cell_type": "markdown",
   "id": "2646d037",
   "metadata": {
    "hidden": true
   },
   "source": [
    "## 7.3 Linear Regression Regularized Model"
   ]
  },
  {
   "cell_type": "code",
   "execution_count": null,
   "id": "7aa8567d",
   "metadata": {
    "ExecuteTime": {
     "start_time": "2021-10-14T01:04:52.930Z"
    },
    "hidden": true
   },
   "outputs": [],
   "source": [
    "# # model\n",
    "# lrr = Lasso( alpha=0.01 ).fit( x_train, y_train)\n",
    "\n",
    "# # prediction\n",
    "# yhat_lrr = lrr.predict( x_test )\n",
    "\n",
    "# # performance\n",
    "# lrr_result = ml_error( 'Linear Regression - Lasso', np.expm1(y_test) , np.expm1(yhat_lrr) )\n",
    "# lrr_result"
   ]
  },
  {
   "cell_type": "markdown",
   "id": "8a35a590",
   "metadata": {
    "ExecuteTime": {
     "end_time": "2021-10-12T15:18:14.969349Z",
     "start_time": "2021-10-12T15:18:14.966818Z"
    },
    "hidden": true
   },
   "source": [
    "### 7.3.1 Lasso - Cross Validation"
   ]
  },
  {
   "cell_type": "code",
   "execution_count": null,
   "id": "7c524ac8",
   "metadata": {
    "ExecuteTime": {
     "start_time": "2021-10-14T01:04:52.935Z"
    },
    "hidden": true
   },
   "outputs": [],
   "source": [
    "# lrr_result_cv = cross_validation( x_training, 5, 'Lasso', lrr, verbose=False )\n",
    "# lrr_result_cv"
   ]
  },
  {
   "cell_type": "markdown",
   "id": "10ab7bf4",
   "metadata": {
    "hidden": true
   },
   "source": [
    "## 7.4 Random Forest Regressor"
   ]
  },
  {
   "cell_type": "code",
   "execution_count": null,
   "id": "57f2d592",
   "metadata": {
    "ExecuteTime": {
     "start_time": "2021-10-14T01:04:52.939Z"
    },
    "hidden": true
   },
   "outputs": [],
   "source": [
    "# # model\n",
    "# rf = RandomForestRegressor(n_estimators=50, n_jobs=-1, random_state=42 ).fit( x_train, y_train)\n",
    "\n",
    "# # prediction\n",
    "# yhat_rf = rf.predict( x_test )\n",
    "\n",
    "# # performance\n",
    "# rf_result = ml_error( 'Random Forest Regressor', np.expm1(y_test) , np.expm1(yhat_rf) )\n",
    "# rf_result"
   ]
  },
  {
   "cell_type": "markdown",
   "id": "7cb56979",
   "metadata": {
    "ExecuteTime": {
     "end_time": "2021-10-12T15:18:14.969349Z",
     "start_time": "2021-10-12T15:18:14.966818Z"
    },
    "hidden": true
   },
   "source": [
    "### 7.4.1 Random Forest Regressor - Cross Validation"
   ]
  },
  {
   "cell_type": "code",
   "execution_count": null,
   "id": "f8641342",
   "metadata": {
    "ExecuteTime": {
     "start_time": "2021-10-14T01:04:52.944Z"
    },
    "hidden": true
   },
   "outputs": [],
   "source": [
    "# rf_result_cv = cross_validation( x_training, 5, 'Random Forest Regressor', rf, verbose=True )\n",
    "# rf_result_cv"
   ]
  },
  {
   "cell_type": "markdown",
   "id": "f0dafd80",
   "metadata": {
    "hidden": true
   },
   "source": [
    "## 7.5 XGBoost Regressor"
   ]
  },
  {
   "cell_type": "code",
   "execution_count": null,
   "id": "2ff38db1",
   "metadata": {
    "ExecuteTime": {
     "start_time": "2021-10-16T04:05:54.057Z"
    },
    "hidden": true,
    "scrolled": true
   },
   "outputs": [],
   "source": [
    "# # model\n",
    "# model_xgb = xgb.XGBRegressor(objective='reg:squarederror',\n",
    "#                              n_estimators=100,\n",
    "#                              eta=0.01,\n",
    "#                              max_depth=10,\n",
    "#                              subsample=0.7,\n",
    "#                              colsample_bytree=0.9 ).fit( x_train, y_train)      \n",
    "\n",
    "# # prediction\n",
    "# yhat_xgb = model_xgb.predict( x_test )\n",
    "\n",
    "# # performance\n",
    "# xgb_result = ml_error( 'XGBoost Regressor', np.expm1(y_test) , np.expm1(yhat_xgb) )\n",
    "# xgb_result"
   ]
  },
  {
   "cell_type": "markdown",
   "id": "99aea7e1",
   "metadata": {
    "ExecuteTime": {
     "end_time": "2021-10-12T15:18:14.969349Z",
     "start_time": "2021-10-12T15:18:14.966818Z"
    },
    "hidden": true
   },
   "source": [
    "### 7.5.1 XGBoost Regressor - Cross Validation"
   ]
  },
  {
   "cell_type": "code",
   "execution_count": null,
   "id": "48f10871",
   "metadata": {
    "ExecuteTime": {
     "start_time": "2021-10-14T01:04:52.953Z"
    },
    "hidden": true
   },
   "outputs": [],
   "source": [
    "# xgb_result_cv = cross_validation( x_training, 5, 'XGBoost Regressor', model_xgb, verbose=True )\n",
    "# xgb_result_cv"
   ]
  },
  {
   "cell_type": "markdown",
   "id": "60dbfaec",
   "metadata": {
    "hidden": true
   },
   "source": [
    "## 7.6 Compare Model's Performance"
   ]
  },
  {
   "cell_type": "markdown",
   "id": "6f4315a6",
   "metadata": {
    "ExecuteTime": {
     "end_time": "2021-10-12T15:03:10.793521Z",
     "start_time": "2021-10-12T15:03:10.729594Z"
    },
    "hidden": true
   },
   "source": [
    "### 7.6.1 Single Performance"
   ]
  },
  {
   "cell_type": "code",
   "execution_count": null,
   "id": "90d18712",
   "metadata": {
    "ExecuteTime": {
     "start_time": "2021-10-14T01:04:52.958Z"
    },
    "hidden": true
   },
   "outputs": [],
   "source": [
    "modelling_result = pd.concat( [baseline_result, lr_result, lrr_result, rf_result, xgb_result])\n",
    "modelling_result.sort_values('RMSE')"
   ]
  },
  {
   "cell_type": "markdown",
   "id": "95ae8005",
   "metadata": {
    "ExecuteTime": {
     "end_time": "2021-10-12T15:03:10.793521Z",
     "start_time": "2021-10-12T15:03:10.729594Z"
    },
    "hidden": true
   },
   "source": [
    "### 7.6.2 Real Performance - Cross Validation"
   ]
  },
  {
   "cell_type": "code",
   "execution_count": null,
   "id": "e0dcf79f",
   "metadata": {
    "ExecuteTime": {
     "start_time": "2021-10-14T01:04:52.963Z"
    },
    "hidden": true
   },
   "outputs": [],
   "source": [
    "modelling_result_cv = pd.concat( [lr_result_cv, lrr_result_cv, rf_result_cv, xgb_result_cv])\n",
    "modelling_result_cv.sort_values('RMSE CV')"
   ]
  },
  {
   "cell_type": "markdown",
   "id": "d6facdad",
   "metadata": {
    "heading_collapsed": true
   },
   "source": [
    "# 8.0 HYPERPARAMETER FINE TUNING"
   ]
  },
  {
   "cell_type": "markdown",
   "id": "7bde9a25",
   "metadata": {
    "hidden": true
   },
   "source": [
    "## 8.1 Random Search"
   ]
  },
  {
   "cell_type": "code",
   "execution_count": null,
   "id": "1a71deb7",
   "metadata": {
    "ExecuteTime": {
     "end_time": "2021-10-14T01:19:14.608809Z",
     "start_time": "2021-10-14T01:19:14.522166Z"
    },
    "hidden": true
   },
   "outputs": [],
   "source": [
    "# param = {\n",
    "#       'n_estimators': [1500, 1700, 2500, 3000, 3500],\n",
    "#       'eta': [0.01 , 0.03],\n",
    "#       'max_depth': [3, 5, 9],\n",
    "#       'subsample': [0.1, 0.5, 0.7],\n",
    "#       'colsample_bytree': [0.3, 0.7, 0.9],\n",
    "#       'min_child_weight': [3, 8, 15] \n",
    "#        }\n",
    "\n",
    "# MAX_EVAL = 10"
   ]
  },
  {
   "cell_type": "code",
   "execution_count": null,
   "id": "6ae383f6",
   "metadata": {
    "ExecuteTime": {
     "end_time": "2021-10-14T06:14:00.707277Z",
     "start_time": "2021-10-14T01:19:14.610853Z"
    },
    "hidden": true
   },
   "outputs": [],
   "source": [
    "# final_result = pd.DataFrame()\n",
    "\n",
    "# for i in range( MAX_EVAL):\n",
    "#     # choose values for parameters randomly\n",
    "#     hp = {k: random.sample( v, 1)[0]for k, v in param.items() }\n",
    "#     print( hp )\n",
    "    \n",
    "#     # model\n",
    "#     model_xgb = xgb.XGBRegressor(objective='reg:squarederror',\n",
    "#                                  n_estimators=hp['n_estimators'],\n",
    "#                                  eta=hp['eta'],\n",
    "#                                  max_depth=hp['max_depth'],\n",
    "#                                  subsample=hp['subsample'],\n",
    "#                                  colsample_bytree=hp['colsample_bytree'],\n",
    "#                                  min_child_weight=hp['min_child_weight'] )\n",
    "    \n",
    "#     # performance\n",
    "#     result = cross_validation( x_training, 2, 'XGBoost Regressor', model_xgb, verbose=False )\n",
    "#     final_result = pd.concat([final_result, result])\n",
    "    \n",
    "# final_result"
   ]
  },
  {
   "cell_type": "markdown",
   "id": "5fbbb242",
   "metadata": {
    "heading_collapsed": true,
    "hidden": true
   },
   "source": [
    "## 8.2 Final Model"
   ]
  },
  {
   "cell_type": "code",
   "execution_count": 33,
   "id": "5ba22e0f",
   "metadata": {
    "ExecuteTime": {
     "end_time": "2021-10-30T22:55:40.718691Z",
     "start_time": "2021-10-30T22:55:40.712056Z"
    },
    "hidden": true
   },
   "outputs": [],
   "source": [
    "param_tuned = {\n",
    "      'n_estimators':2500 ,\n",
    "      'eta': 0.01 ,\n",
    "      'max_depth': 9,\n",
    "      'subsample':0.5 ,\n",
    "      'colsample_bytree':0.3 ,\n",
    "      'min_child_weight':8 \n",
    "       }"
   ]
  },
  {
   "cell_type": "code",
   "execution_count": 34,
   "id": "fc958554",
   "metadata": {
    "ExecuteTime": {
     "end_time": "2021-10-30T23:18:45.391665Z",
     "start_time": "2021-10-30T22:55:44.695356Z"
    },
    "hidden": true
   },
   "outputs": [
    {
     "data": {
      "text/html": [
       "<div>\n",
       "<style scoped>\n",
       "    .dataframe tbody tr th:only-of-type {\n",
       "        vertical-align: middle;\n",
       "    }\n",
       "\n",
       "    .dataframe tbody tr th {\n",
       "        vertical-align: top;\n",
       "    }\n",
       "\n",
       "    .dataframe thead th {\n",
       "        text-align: right;\n",
       "    }\n",
       "</style>\n",
       "<table border=\"1\" class=\"dataframe\">\n",
       "  <thead>\n",
       "    <tr style=\"text-align: right;\">\n",
       "      <th></th>\n",
       "      <th>Model Name</th>\n",
       "      <th>MAE</th>\n",
       "      <th>MAPE</th>\n",
       "      <th>RMSE</th>\n",
       "    </tr>\n",
       "  </thead>\n",
       "  <tbody>\n",
       "    <tr>\n",
       "      <th>0</th>\n",
       "      <td>XGBoost Regressor</td>\n",
       "      <td>793.537799</td>\n",
       "      <td>0.117927</td>\n",
       "      <td>1139.376113</td>\n",
       "    </tr>\n",
       "  </tbody>\n",
       "</table>\n",
       "</div>"
      ],
      "text/plain": [
       "          Model Name         MAE      MAPE         RMSE\n",
       "0  XGBoost Regressor  793.537799  0.117927  1139.376113"
      ]
     },
     "execution_count": 34,
     "metadata": {},
     "output_type": "execute_result"
    }
   ],
   "source": [
    "# model\n",
    "model_xgb_tuned = xgb.XGBRegressor(objective='reg:squarederror',\n",
    "                                   n_estimators=param_tuned['n_estimators'],\n",
    "                                   eta=param_tuned['eta'],\n",
    "                                   max_depth=param_tuned['max_depth'],\n",
    "                                   subsample=param_tuned['subsample'],\n",
    "                                   colsample_bytree=param_tuned['colsample_bytree'],\n",
    "                                   min_child_weight=param_tuned['min_child_weight'] ).fit( x_train, y_train)   \n",
    "    \n",
    "# prediction\n",
    "yhat_xgb_tuned = model_xgb_tuned.predict( x_test )\n",
    "\n",
    "# performance\n",
    "xgb_result_tuned = ml_error( 'XGBoost Regressor', np.expm1(y_test) , np.expm1(yhat_xgb_tuned) )\n",
    "xgb_result_tuned"
   ]
  },
  {
   "cell_type": "code",
   "execution_count": 35,
   "id": "146311ea",
   "metadata": {
    "ExecuteTime": {
     "end_time": "2021-10-30T23:18:45.400952Z",
     "start_time": "2021-10-30T23:18:45.393730Z"
    },
    "hidden": true
   },
   "outputs": [
    {
     "data": {
      "text/plain": [
       "-0.01276350690722134"
      ]
     },
     "execution_count": 35,
     "metadata": {},
     "output_type": "execute_result"
    }
   ],
   "source": [
    "# MPE Calc\n",
    "mpe = mean_percentage_error(np.expm1(y_test), np.expm1(yhat_xgb_tuned))\n",
    "mpe"
   ]
  },
  {
   "cell_type": "markdown",
   "id": "06f48ecd",
   "metadata": {
    "heading_collapsed": true
   },
   "source": [
    "# 9.0 ERROR TRANSLATION AND INTERPRETATION"
   ]
  },
  {
   "cell_type": "code",
   "execution_count": 36,
   "id": "387575da",
   "metadata": {
    "ExecuteTime": {
     "end_time": "2021-10-30T23:18:45.559340Z",
     "start_time": "2021-10-30T23:18:45.403801Z"
    },
    "hidden": true
   },
   "outputs": [],
   "source": [
    "df9 = X_test[cols_selected_boruta_full]\n",
    "\n",
    "# rescale\n",
    "\n",
    "df9['sales'] = np.expm1( df9['sales'] )\n",
    "df9['predictions'] = np.expm1( yhat_xgb_tuned )"
   ]
  },
  {
   "cell_type": "markdown",
   "id": "d8f218b0",
   "metadata": {
    "hidden": true
   },
   "source": [
    "## 9.1 Business Performance"
   ]
  },
  {
   "cell_type": "code",
   "execution_count": 37,
   "id": "c9075dc2",
   "metadata": {
    "ExecuteTime": {
     "end_time": "2021-10-30T23:18:47.610319Z",
     "start_time": "2021-10-30T23:18:45.561249Z"
    },
    "hidden": true
   },
   "outputs": [],
   "source": [
    "# sum of predictions\n",
    "df91 = df9[['store', 'predictions']].groupby('store').sum().reset_index()\n",
    "\n",
    "# MAE and MAPE\n",
    "df9_aux1 = df9[['store','sales','predictions']].groupby('store').apply( lambda x: mean_absolute_error( x['sales'], x['predictions'] ) ).reset_index().rename( columns={0: 'MAE'})\n",
    "df9_aux2 = df9[['store','sales','predictions']].groupby('store').apply( lambda x: mean_absolute_percentage_error( x['sales'], x['predictions'] ) ).reset_index().rename( columns={0: 'MAPE'})\n",
    "\n",
    "# Merge\n",
    "df9_aux3 = pd.merge( df9_aux1, df9_aux2, how='inner', on='store' )\n",
    "df92 = pd.merge( df91, df9_aux3, how='inner', on='store' )\n",
    "\n",
    "# Scenarios\n",
    "df92['worst_scenario'] = df92['predictions'] - df92['MAE']\n",
    "df92['best_scenario'] = df92['predictions'] + df92['MAE']\n",
    "\n",
    "# order columns\n",
    "df92 = df92[['store','predictions','worst_scenario','best_scenario','MAE','MAPE']]"
   ]
  },
  {
   "cell_type": "code",
   "execution_count": 38,
   "id": "8f8b05ff",
   "metadata": {
    "ExecuteTime": {
     "end_time": "2021-10-30T23:18:47.623654Z",
     "start_time": "2021-10-30T23:18:47.611897Z"
    },
    "hidden": true
   },
   "outputs": [
    {
     "data": {
      "text/html": [
       "<div>\n",
       "<style scoped>\n",
       "    .dataframe tbody tr th:only-of-type {\n",
       "        vertical-align: middle;\n",
       "    }\n",
       "\n",
       "    .dataframe tbody tr th {\n",
       "        vertical-align: top;\n",
       "    }\n",
       "\n",
       "    .dataframe thead th {\n",
       "        text-align: right;\n",
       "    }\n",
       "</style>\n",
       "<table border=\"1\" class=\"dataframe\">\n",
       "  <thead>\n",
       "    <tr style=\"text-align: right;\">\n",
       "      <th></th>\n",
       "      <th>store</th>\n",
       "      <th>predictions</th>\n",
       "      <th>worst_scenario</th>\n",
       "      <th>best_scenario</th>\n",
       "      <th>MAE</th>\n",
       "      <th>MAPE</th>\n",
       "    </tr>\n",
       "  </thead>\n",
       "  <tbody>\n",
       "    <tr>\n",
       "      <th>291</th>\n",
       "      <td>292</td>\n",
       "      <td>113662.085938</td>\n",
       "      <td>110232.102693</td>\n",
       "      <td>117092.069182</td>\n",
       "      <td>3429.983244</td>\n",
       "      <td>0.645893</td>\n",
       "    </tr>\n",
       "    <tr>\n",
       "      <th>908</th>\n",
       "      <td>909</td>\n",
       "      <td>223520.296875</td>\n",
       "      <td>215609.199622</td>\n",
       "      <td>231431.394128</td>\n",
       "      <td>7911.097253</td>\n",
       "      <td>0.523595</td>\n",
       "    </tr>\n",
       "    <tr>\n",
       "      <th>285</th>\n",
       "      <td>286</td>\n",
       "      <td>173659.828125</td>\n",
       "      <td>172654.075987</td>\n",
       "      <td>174665.580263</td>\n",
       "      <td>1005.752138</td>\n",
       "      <td>0.361494</td>\n",
       "    </tr>\n",
       "    <tr>\n",
       "      <th>955</th>\n",
       "      <td>956</td>\n",
       "      <td>145476.578125</td>\n",
       "      <td>144594.628253</td>\n",
       "      <td>146358.527997</td>\n",
       "      <td>881.949872</td>\n",
       "      <td>0.348659</td>\n",
       "    </tr>\n",
       "    <tr>\n",
       "      <th>969</th>\n",
       "      <td>970</td>\n",
       "      <td>129719.492188</td>\n",
       "      <td>128953.696025</td>\n",
       "      <td>130485.288350</td>\n",
       "      <td>765.796162</td>\n",
       "      <td>0.332464</td>\n",
       "    </tr>\n",
       "  </tbody>\n",
       "</table>\n",
       "</div>"
      ],
      "text/plain": [
       "     store    predictions  worst_scenario  best_scenario          MAE      MAPE\n",
       "291    292  113662.085938   110232.102693  117092.069182  3429.983244  0.645893\n",
       "908    909  223520.296875   215609.199622  231431.394128  7911.097253  0.523595\n",
       "285    286  173659.828125   172654.075987  174665.580263  1005.752138  0.361494\n",
       "955    956  145476.578125   144594.628253  146358.527997   881.949872  0.348659\n",
       "969    970  129719.492188   128953.696025  130485.288350   765.796162  0.332464"
      ]
     },
     "execution_count": 38,
     "metadata": {},
     "output_type": "execute_result"
    }
   ],
   "source": [
    "df92.sort_values('MAPE', ascending=False).head()"
   ]
  },
  {
   "cell_type": "code",
   "execution_count": 39,
   "id": "bcaedba1",
   "metadata": {
    "ExecuteTime": {
     "end_time": "2021-10-30T23:18:49.393669Z",
     "start_time": "2021-10-30T23:18:47.625373Z"
    },
    "hidden": true
   },
   "outputs": [
    {
     "data": {
      "image/png": "[encoded data removed]",
      "text/plain": [
       "<Figure size 1800x864 with 1 Axes>"
      ]
     },
     "metadata": {},
     "output_type": "display_data"
    }
   ],
   "source": [
    "sns.scatterplot( x='store', y='MAPE', data=df92);"
   ]
  },
  {
   "cell_type": "markdown",
   "id": "d511e4e3",
   "metadata": {
    "heading_collapsed": true,
    "hidden": true
   },
   "source": [
    "## 9.2 Total Performance"
   ]
  },
  {
   "cell_type": "code",
   "execution_count": 40,
   "id": "db480752",
   "metadata": {
    "ExecuteTime": {
     "end_time": "2021-10-30T23:18:49.417006Z",
     "start_time": "2021-10-30T23:18:49.395877Z"
    },
    "hidden": true
   },
   "outputs": [
    {
     "data": {
      "text/html": [
       "<div>\n",
       "<style scoped>\n",
       "    .dataframe tbody tr th:only-of-type {\n",
       "        vertical-align: middle;\n",
       "    }\n",
       "\n",
       "    .dataframe tbody tr th {\n",
       "        vertical-align: top;\n",
       "    }\n",
       "\n",
       "    .dataframe thead th {\n",
       "        text-align: right;\n",
       "    }\n",
       "</style>\n",
       "<table border=\"1\" class=\"dataframe\">\n",
       "  <thead>\n",
       "    <tr style=\"text-align: right;\">\n",
       "      <th></th>\n",
       "      <th>index</th>\n",
       "      <th>Values</th>\n",
       "    </tr>\n",
       "  </thead>\n",
       "  <tbody>\n",
       "    <tr>\n",
       "      <th>0</th>\n",
       "      <td>predictions</td>\n",
       "      <td>R$ 283,668,352.00</td>\n",
       "    </tr>\n",
       "    <tr>\n",
       "      <th>1</th>\n",
       "      <td>worst_scenario</td>\n",
       "      <td>R$ 282,779,915.67</td>\n",
       "    </tr>\n",
       "    <tr>\n",
       "      <th>2</th>\n",
       "      <td>best_scenario</td>\n",
       "      <td>R$ 284,556,755.36</td>\n",
       "    </tr>\n",
       "  </tbody>\n",
       "</table>\n",
       "</div>"
      ],
      "text/plain": [
       "            index             Values\n",
       "0     predictions  R$ 283,668,352.00\n",
       "1  worst_scenario  R$ 282,779,915.67\n",
       "2   best_scenario  R$ 284,556,755.36"
      ]
     },
     "execution_count": 40,
     "metadata": {},
     "output_type": "execute_result"
    }
   ],
   "source": [
    "df93 = df92[['predictions','worst_scenario','best_scenario']].apply(lambda x: np.sum( x ), axis=0).reset_index().rename( columns={'Index':'Scenarios', 0:'Values'})\n",
    "df93['Values'] = df93['Values'].map( 'R$ {:,.2f}'.format )\n",
    "df93"
   ]
  },
  {
   "cell_type": "markdown",
   "id": "3566918c",
   "metadata": {
    "heading_collapsed": true,
    "hidden": true
   },
   "source": [
    "## 9.3 Machine Learning Performance"
   ]
  },
  {
   "cell_type": "code",
   "execution_count": 41,
   "id": "a296e5fd",
   "metadata": {
    "ExecuteTime": {
     "end_time": "2021-10-30T23:18:50.001574Z",
     "start_time": "2021-10-30T23:18:49.421989Z"
    },
    "hidden": true
   },
   "outputs": [],
   "source": [
    "df9['error'] = df9['sales'] - df9['predictions']\n",
    "df9['error_rate'] = df9['predictions'] / df9['sales']"
   ]
  },
  {
   "cell_type": "code",
   "execution_count": 43,
   "id": "e785bd7b",
   "metadata": {
    "ExecuteTime": {
     "end_time": "2021-10-31T00:23:10.625715Z",
     "start_time": "2021-10-31T00:23:00.636934Z"
    },
    "hidden": true
   },
   "outputs": [
    {
     "data": {
      "image/png": "[encoded data removed]",
      "text/plain": [
       "<Figure size 1800x864 with 4 Axes>"
      ]
     },
     "metadata": {},
     "output_type": "display_data"
    }
   ],
   "source": [
    "plt.subplot( 2, 2, 1 )\n",
    "sns.lineplot( x='date', y='sales', data=df9, label='SALES');\n",
    "sns.lineplot( x='date', y='predictions', data=df9, label='PREDICTIONS');\n",
    "\n",
    "plt.subplot( 2, 2, 2 ) \n",
    "sns.lineplot( x='date', y='error_rate', data=df9 );\n",
    "plt.axhline(1, linestyle='--')\n",
    "\n",
    "plt.subplot( 2, 2, 3 )\n",
    "sns.distplot( df9['error']);\n",
    "\n",
    "plt.subplot( 2, 2, 4 )\n",
    "sns.scatterplot( df9['predictions'], df9['error'] );"
   ]
  },
  {
   "cell_type": "markdown",
   "id": "31ef4f49",
   "metadata": {},
   "source": [
    "# 10.0 DEPLOY MODEL TO PRODUCTION"
   ]
  },
  {
   "cell_type": "code",
   "execution_count": 46,
   "id": "a05dec93",
   "metadata": {
    "ExecuteTime": {
     "end_time": "2021-11-02T15:22:58.901011Z",
     "start_time": "2021-11-02T15:22:58.893758Z"
    }
   },
   "outputs": [],
   "source": [
    "# Save Trained Model\n",
    "pickle.dump(xgb_result_tuned, open('/home/felipe_rastelli/repositorios/DataScience_Em_Producao/model/model_rossmann.pkl', 'wb'))"
   ]
  },
  {
   "cell_type": "markdown",
   "id": "50b8345e",
   "metadata": {},
   "source": [
    "## 10.1 Rossmann Class"
   ]
  },
  {
   "cell_type": "code",
   "execution_count": null,
   "id": "6b797e31",
   "metadata": {
    "code_folding": [
     2,
     11,
     67,
     119
    ]
   },
   "outputs": [],
   "source": [
    "class Rossmann( object ):\n",
    "   \n",
    "    def __init__( self ):\n",
    "        self.competition_distance_scaler    = pickle.load( open('parameter/competition_distance_scaler.pkl', 'rb'))\n",
    "        self.competition_time_month_scaler  = pickle.load( open('parameter/competition_time_month_scaler.pkl', 'rb'))\n",
    "        self.promo_time_week_scaler         = pickle.load( open('parameter/promo_time_week_scaler.pkl', 'rb'))\n",
    "        self.year_scaler                    = pickle.load( open('parameter/year_scaler.pkl', 'rb'))\n",
    "        self.store_type_scaler              = pickle.load( open('parameter/store_type_scaler.pkl', 'rb'))\n",
    "        \n",
    "        state = 1\n",
    "    \n",
    "    def data_cleaning( self, df1):\n",
    "        \n",
    "        # 1.1 Rename Columns\n",
    "        cols_old = ['Store', 'DayOfWeek', 'Date', 'Sales', 'Customers', 'Open', 'Promo',\n",
    "                'StateHoliday', 'SchoolHoliday', 'StoreType', 'Assortment',\n",
    "                'CompetitionDistance', 'CompetitionOpenSinceMonth',\n",
    "                'CompetitionOpenSinceYear', 'Promo2', 'Promo2SinceWeek',\n",
    "                'Promo2SinceYear', 'PromoInterval']\n",
    "\n",
    "        snakecase = lambda x: inflection.underscore( x )\n",
    "\n",
    "        cols_new = list(map( snakecase, cols_old))\n",
    "\n",
    "        # rename\n",
    "        df1.columns = cols_new\n",
    "\n",
    "        # 1.3 Data Types\n",
    "        df1['date'] = pd.to_datetime(df1['date'])\n",
    "        df1.dtypes\n",
    "\n",
    "        # 1.5 Fillout NA\n",
    "\n",
    "        # competition_distance  \n",
    "        df1['competition_distance'] = df1['competition_distance'].apply (lambda x: 200000.0 if math.isnan(x) else x)\n",
    "\n",
    "        # competition_open_since_month  \n",
    "        df1['competition_open_since_month'] = df1.apply( lambda x: x['date'].month if math.isnan( x['competition_open_since_month']) else x['competition_open_since_month'], axis=1)\n",
    "\n",
    "        # competition_open_since_year     \n",
    "        df1['competition_open_since_year'] = df1.apply( lambda x: x['date'].year if math.isnan( x['competition_open_since_year']) else x['competition_open_since_year'], axis=1)\n",
    "\n",
    "        # promo2_since_week    \n",
    "        df1['promo2_since_week'] = df1.apply( lambda x: x['date'].week if math.isnan( x['promo2_since_week']) else x['promo2_since_week'], axis=1)\n",
    "\n",
    "        # promo2_since_year \n",
    "        df1['promo2_since_year'] = df1.apply( lambda x: x['date'].year if math.isnan( x['promo2_since_year']) else x['promo2_since_year'], axis=1)\n",
    "\n",
    "        # promo_interval  \n",
    "        month_map = {1: 'Jan', 2:'Feb',3:'Mar',4:'Apr',5:'May',6:'Jun',7:'Jul',8:'Aug',9:'Set',10:'Oct',11:'Nov',12:'Dec'}        \n",
    "        df1['promo_interval'].fillna(0, inplace=True ) \n",
    "        df1['month_map'] = df1['date'].dt.month.map( month_map)\n",
    "        df1['is_promo'] = df1[['promo_interval','month_map']].apply(lambda x: 0 if x['promo_interval'] == 0 else 1 if x['month_map'] in x['promo_interval'].split( ',') else 0 , axis=1 )\n",
    "\n",
    "\n",
    "        # 1.6 Change Types\n",
    "        df1['competition_open_since_month'] = df1['competition_open_since_month'].astype(int)\n",
    "        df1['competition_open_since_year'] = df1['competition_open_since_year'].astype(int)\n",
    "        df1['promo2_since_week'] = df1['promo2_since_week'].astype(int)\n",
    "        df1['promo2_since_year'] = df1['promo2_since_year'].astype(int)\n",
    "        df1['competition_open_since_month'] = df1['competition_open_since_month'].astype(int)\n",
    "        df1['competition_open_since_year'] = df1['competition_open_since_year'].astype(int)\n",
    "        df1['promo2_since_week'] = df1['promo2_since_week'].astype(int)\n",
    "        df1['promo2_since_year'] = df1['promo2_since_year'].astype(int)\n",
    "        \n",
    "        return df1\n",
    "    \n",
    "    def feature_engineering( self, df2):\n",
    "        \n",
    "        # 2.4 Feature Engineering\n",
    "        \n",
    "        #year\n",
    "        df2['year'] = df2['date'].dt.year\n",
    "        \n",
    "        #month\n",
    "        df2['month'] = df2['date'].dt.month\n",
    "        \n",
    "        #day\n",
    "        df2['day'] = df2['date'].dt.day\n",
    "        \n",
    "        #week of year\n",
    "        df2['week_of_year'] = df2['date'].dt.weekofyear\n",
    "        \n",
    "        #year week\n",
    "        df2['year_week'] = df2['date'].dt.strftime('%Y-%W')\n",
    "        \n",
    "        #competition since\n",
    "        df2['competition_since'] = df2.apply( lambda x: datetime.datetime( year=x['competition_open_since_year'] , \n",
    "                                                                           month=x['competition_open_since_month'], \n",
    "                                                                           day=1), axis=1)\n",
    "        \n",
    "        df2['competition_time_month'] = ((df2['date'] - df2['competition_since']) / 30).apply( lambda x: x.days).astype(int)\n",
    "        \n",
    "        #promo since\n",
    "        df2['promo_since'] =  df2['promo2_since_year'].astype(str) + '-' + df2['promo2_since_week'].astype(str)\n",
    "        \n",
    "        df2['promo_since'] = df2['promo_since'].apply(lambda x: datetime.datetime.strptime( x + '-1', '%Y-%W-%w') - datetime.timedelta( days=7 ))\n",
    "        \n",
    "        df2['promo_time_week'] = ((df2['date'] - df2['promo_since']) / 7).apply( lambda x: x.days).astype(int)\n",
    "        \n",
    "        #assortment\n",
    "        df2['assortment'] = df2['assortment'].apply(lambda x: 'basic' if x == 'a' else 'extra' if x == 'b' else 'extended')\n",
    "        \n",
    "        #state holiday\n",
    "        df2['state_holiday'] = df2['state_holiday'].apply(lambda x: 'public_holiday' if x == 'a' \n",
    "                                                                                     else 'easter_holiday' if x == 'b' \n",
    "                                                                                     else 'christmas' if x == 'c'\n",
    "                                                                                     else 'regular_day')\n",
    "        \n",
    "\n",
    "        # 3.1 Rows Filtering\n",
    "        df2 = df2[(df2['open']!= 0) & (df2['sales'] > 0)]\n",
    "       \n",
    "        # 3.2 Columns Selection\n",
    "        cols_drop = ['customers','open','promo_interval','month_map']\n",
    "        df2 = df2.drop( cols_drop, axis=1)\n",
    "        \n",
    "        return df2\n",
    "    \n",
    "    def data_preparation( self, df5 ):\n",
    "        \n",
    "        # 5.2 Rescaling        \n",
    "        # competition_distance\n",
    "        df5['competition_distance'] = self.competition_distance_scaler.fit_transform(df5[['competition_distance']].values)\n",
    "        \n",
    "        # competition time month\n",
    "        df5['competition_time_month'] = self.competition_time_month_scaler.fit_transform(df5[['competition_time_month']].values)\n",
    "        \n",
    "        # promo time week\n",
    "        df5['promo_time_week'] = self.promo_time_week_scaler.fit_transform(df5[['promo_time_week']].values)\n",
    "   \n",
    "        # year\n",
    "        df5['year'] = self.year_scaler.fit_transform(df5[['year']].values)\n",
    "       \n",
    "        # 5.3.1 Encoding\n",
    "        # state_holiday - One Hot Encoding\n",
    "        df5 = pd.get_dummies(df5, prefix= ['state_holiday'],columns= ['state_holiday'])\n",
    "\n",
    "        # store_type - Label Encoding\n",
    "        df5['store_type'] = self.store_type_scaler.fit_transform(df5['store_type'])\n",
    "\n",
    "        # assortment - Ordinal Encoding\n",
    "        assortment_dict = {'basic':1,'extra':2, 'extended':3}\n",
    "        df5['assortment'] = df5['assortment'].map( assortment_dict )\n",
    "        \n",
    "\n",
    "        # 5.3.2 Response Variable Transformation\n",
    "        df5['sales'] = np.log1p(df5['sales'])\n",
    "\n",
    "        # 5.3.3 Nature Transformation\n",
    "        # day_of_week\n",
    "        df5['day_of_week_sin'] = df5['day_of_week'].apply(lambda x: np.sin( x * (2. * np.pi/7) ) )\n",
    "        df5['day_of_week_cos'] = df5['day_of_week'].apply(lambda x: np.cos( x * (2. * np.pi/7) ) )\n",
    "\n",
    "        # month\n",
    "        df5['month_sin'] = df5['month'].apply(lambda x: np.sin( x * (2. * np.pi/12) ) )\n",
    "        df5['month_cos'] = df5['month'].apply(lambda x: np.cos( x * (2. * np.pi/12) ) )\n",
    "\n",
    "        # day\n",
    "        df5['day_sin'] = df5['day'].apply(lambda x: np.sin( x * (2. * np.pi/30) ) )\n",
    "        df5['day_cos'] = df5['day'].apply(lambda x: np.cos( x * (2. * np.pi/30) ) )\n",
    "\n",
    "        # week of year\n",
    "        df5['week_of_year_sin'] = df5['week_of_year'].apply(lambda x: np.sin( x * (2. * np.pi/52) ) )\n",
    "        df5['week_of_year_cos'] = df5['week_of_year'].apply(lambda x: np.cos( x * (2. * np.pi/52) ) )\n",
    "        \n",
    "        cols_selected = ['store','promo','store_type','assortment','competition_distance','competition_open_since_month',\n",
    "                                 'competition_open_since_year','promo2','promo2_since_week','promo2_since_year','competition_time_month',\n",
    "                                 'promo_time_week','day_of_week_sin','day_of_week_cos','month_sin','month_cos','day_sin','day_cos',\n",
    "                                 'week_of_year_sin','week_of_year_cos']\n",
    "\n",
    "        return df5[cols_selected]\n",
    "           "
   ]
  },
  {
   "cell_type": "markdown",
   "id": "e9c5ed88",
   "metadata": {},
   "source": [
    "## 10.2 API Handler"
   ]
  },
  {
   "cell_type": "code",
   "execution_count": null,
   "id": "312cdcf9",
   "metadata": {
    "code_folding": []
   },
   "outputs": [],
   "source": [
    "import pandas as pd\n",
    "from flask                import Flask, request, Response\n",
    "from rossmann.Rossmann.py import Rossmann\n",
    "\n",
    "# Loading Model\n",
    "model = pickle.load( open( '/home/felipe_rastelli/repositorios/DataScience_Em_Producao/model/model_rossmann.pkl', 'rb') )\n",
    "\n",
    "# Initialize API\n",
    "app = Flask(__name__)\n",
    "\n",
    "@app.route( '/rossmann/predict', methods=['POST'] )\n",
    "def rossmann_predict():\n",
    "    test_jason = request.get_json()\n",
    "    \n",
    "    if test_json:\n",
    "        \n",
    "        if isinstance( test_json, dict):        \n",
    "            test_raw = pd.DataFrame( test_json, index=[0]) #unique example\n",
    "        else:        \n",
    "            test_raw = pd.DataFrame( test_json, columns=test_json[0].keys()) #multiple example\n",
    "    else:\n",
    "        return Response( '{}' , status=200, mimetype='application/json' )\n",
    "    \n",
    "    # Instantiate Rossmann class\n",
    "    pipeline = Rossmann()\n",
    "    \n",
    "    # Data cleaning\n",
    "    df1 = pipeline.datacleaning( test_raw )\n",
    "    \n",
    "    # Feature Engineering\n",
    "    df2 = pipeline.feature_engineering ( df1 )\n",
    "    \n",
    "    # Data preparation\n",
    "    df3 = papeline.data_preparation ( df2 )\n",
    "    \n",
    "    # Prediction\n",
    "    df_response = pipeline.get_prediction( model, test_raw, df3)\n",
    "    \n",
    "    return df_response\n",
    "\n",
    "if __name__ =='__main__':\n",
    "    app.run( '0.0.0.0')"
   ]
  },
  {
   "cell_type": "markdown",
   "id": "3e444c0e",
   "metadata": {},
   "source": [
    "## 10.3 API Tester"
   ]
  },
  {
   "cell_type": "code",
   "execution_count": null,
   "id": "fa904ca0",
   "metadata": {},
   "outputs": [],
   "source": []
  },
  {
   "cell_type": "code",
   "execution_count": null,
   "id": "d2893c71",
   "metadata": {},
   "outputs": [],
   "source": []
  },
  {
   "cell_type": "code",
   "execution_count": null,
   "id": "434569e5",
   "metadata": {},
   "outputs": [],
   "source": []
  },
  {
   "cell_type": "code",
   "execution_count": null,
   "id": "56c1da0d",
   "metadata": {},
   "outputs": [],
   "source": []
  }
 ],
 "metadata": {
  "kernelspec": {
   "display_name": "Python 3",
   "language": "python",
   "name": "python3"
  },
  "language_info": {
   "codemirror_mode": {
    "name": "ipython",
    "version": 3
   },
   "file_extension": ".py",
   "mimetype": "text/x-python",
   "name": "python",
   "nbconvert_exporter": "python",
   "pygments_lexer": "ipython3",
   "version": "3.8.8"
  }
 },
 "nbformat": 4,
 "nbformat_minor": 5
}
